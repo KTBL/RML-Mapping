{
 "cells": [
  {
   "cell_type": "code",
   "execution_count": 25,
   "id": "bfdbd686-22f6-4dde-a845-65bd717a286b",
   "metadata": {},
   "outputs": [
    {
     "data": {
      "text/html": [
       "<div class=\"krn-spql\"><div class=\"magic\">Endpoint set to: https://srv.ktbl.de/experimental/pam/sparql</div></div>"
      ],
      "text/plain": [
       "Endpoint set to: https://srv.ktbl.de/experimental/pam/sparql\n"
      ]
     },
     "metadata": {},
     "output_type": "display_data"
    }
   ],
   "source": [
    "#Endpoint gibt aktuellsten Datenbestand wieder (ohne Abstandsauflagen)\n",
    "#%endpoint https://srv.ktbl.de/experimental/pam24/sparql\n",
    "#Endpoint gibt zwar nicht aktuellsten Datenbestand wieder, aber mit Abstandsauflagen\n",
    "%endpoint https://srv.ktbl.de/experimental/pam/sparql"
   ]
  },
  {
   "cell_type": "code",
   "execution_count": 3,
   "id": "cde6a3a1-7ada-4e76-abf4-9a234be5a26f",
   "metadata": {},
   "outputs": [],
   "source": [
    "# Beispielqueries für die PSM Ontologie"
   ]
  },
  {
   "cell_type": "code",
   "execution_count": 4,
   "id": "fe893d6f-9e91-4da9-a043-a99f83b77a83",
   "metadata": {},
   "outputs": [
    {
     "data": {
      "text/html": [
       "<div class=\"krn-spql\"><table><tr class=hdr><th>class</th></tr><tr class=odd><td class=val><a href=\"http://srv.ktbl.de/data/psm/ActiveIngredient\" target=\"_other\">http://srv.ktbl.de/data/psm/ActiveIngredient</a></td></tr><tr class=even><td class=val><a href=\"http://srv.ktbl.de/data/psm/Agent\" target=\"_other\">http://srv.ktbl.de/data/psm/Agent</a></td></tr><tr class=odd><td class=val><a href=\"http://srv.ktbl.de/data/psm/ApplicationCondition\" target=\"_other\">http://srv.ktbl.de/data/psm/ApplicationCondition</a></td></tr><tr class=even><td class=val><a href=\"http://srv.ktbl.de/data/psm/ApplicationRate\" target=\"_other\">http://srv.ktbl.de/data/psm/ApplicationRate</a></td></tr><tr class=odd><td class=val><a href=\"http://srv.ktbl.de/data/psm/ApplicationRateAgent\" target=\"_other\">http://srv.ktbl.de/data/psm/ApplicationRateAgent</a></td></tr><tr class=even><td class=val><a href=\"http://srv.ktbl.de/data/psm/ApplicationRateWater\" target=\"_other\">http://srv.ktbl.de/data/psm/ApplicationRateWater</a></td></tr><tr class=odd><td class=val><a href=\"http://srv.ktbl.de/data/psm/ApplicationTime\" target=\"_other\">http://srv.ktbl.de/data/psm/ApplicationTime</a></td></tr><tr class=even><td class=val><a href=\"http://srv.ktbl.de/data/psm/ApplicationUnit\" target=\"_other\">http://srv.ktbl.de/data/psm/ApplicationUnit</a></td></tr><tr class=odd><td class=val><a href=\"http://srv.ktbl.de/data/psm/Constraint\" target=\"_other\">http://srv.ktbl.de/data/psm/Constraint</a></td></tr><tr class=even><td class=val><a href=\"http://srv.ktbl.de/data/psm/ContentOfActiveAgent\" target=\"_other\">http://srv.ktbl.de/data/psm/ContentOfActiveAgent</a></td></tr><tr class=odd><td class=val><a href=\"http://srv.ktbl.de/data/psm/Crop\" target=\"_other\">http://srv.ktbl.de/data/psm/Crop</a></td></tr><tr class=even><td class=val><a href=\"http://srv.ktbl.de/data/psm/FieldOfApplication\" target=\"_other\">http://srv.ktbl.de/data/psm/FieldOfApplication</a></td></tr><tr class=odd><td class=val><a href=\"http://srv.ktbl.de/data/psm/Formulation\" target=\"_other\">http://srv.ktbl.de/data/psm/Formulation</a></td></tr><tr class=even><td class=val><a href=\"http://srv.ktbl.de/data/psm/Indication\" target=\"_other\">http://srv.ktbl.de/data/psm/Indication</a></td></tr><tr class=odd><td class=val><a href=\"http://srv.ktbl.de/data/psm/Pest\" target=\"_other\">http://srv.ktbl.de/data/psm/Pest</a></td></tr><tr class=even><td class=val><a href=\"http://srv.ktbl.de/data/psm/ScopeOfApplication\" target=\"_other\">http://srv.ktbl.de/data/psm/ScopeOfApplication</a></td></tr><tr class=odd><td class=val><a href=\"http://srv.ktbl.de/data/psm/ScopeOfPesticide\" target=\"_other\">http://srv.ktbl.de/data/psm/ScopeOfPesticide</a></td></tr><tr class=even><td class=val><a href=\"http://srv.ktbl.de/data/psm/ScopedOfApplication\" target=\"_other\">http://srv.ktbl.de/data/psm/ScopedOfApplication</a></td></tr><tr class=odd><td class=val><a href=\"http://srv.ktbl.de/data/psm/StageOfCrop\" target=\"_other\">http://srv.ktbl.de/data/psm/StageOfCrop</a></td></tr><tr class=even><td class=val><a href=\"http://srv.ktbl.de/data/psm/resources/form_AE\" target=\"_other\">http://srv.ktbl.de/data/psm/resources/form_AE</a></td></tr></table><div class=\"tinfo\">Total: 76, Shown: 20</div></div>"
      ]
     },
     "metadata": {},
     "output_type": "display_data"
    }
   ],
   "source": [
    "# get all Classes\n",
    "SELECT DISTINCT ?class\n",
    "WHERE { [] a ?class }\n",
    "ORDER BY ?class\n"
   ]
  },
  {
   "cell_type": "code",
   "execution_count": 5,
   "id": "cdd0b1f0-7495-4bb1-91ee-75051ad5be2f",
   "metadata": {},
   "outputs": [
    {
     "data": {
      "text/html": [
       "<div class=\"krn-spql\"><table><tr class=hdr><th>property</th></tr><tr class=odd><td class=val><a href=\"http://qudt.org/schema/qudt/abbreviation\" target=\"_other\">http://qudt.org/schema/qudt/abbreviation</a></td></tr><tr class=even><td class=val><a href=\"http://qudt.org/schema/qudt/unit\" target=\"_other\">http://qudt.org/schema/qudt/unit</a></td></tr><tr class=odd><td class=val><a href=\"http://qudt.org/schema/qudt/value\" target=\"_other\">http://qudt.org/schema/qudt/value</a></td></tr><tr class=even><td class=val><a href=\"http://srv.ktbl.de/data/psm/activeIngredient\" target=\"_other\">http://srv.ktbl.de/data/psm/activeIngredient</a></td></tr><tr class=odd><td class=val><a href=\"http://srv.ktbl.de/data/psm/agent\" target=\"_other\">http://srv.ktbl.de/data/psm/agent</a></td></tr><tr class=even><td class=val><a href=\"http://srv.ktbl.de/data/psm/amountOfAgent\" target=\"_other\">http://srv.ktbl.de/data/psm/amountOfAgent</a></td></tr><tr class=odd><td class=val><a href=\"http://srv.ktbl.de/data/psm/applicationCondition\" target=\"_other\">http://srv.ktbl.de/data/psm/applicationCondition</a></td></tr><tr class=even><td class=val><a href=\"http://srv.ktbl.de/data/psm/applicationTechnology\" target=\"_other\">http://srv.ktbl.de/data/psm/applicationTechnology</a></td></tr><tr class=odd><td class=val><a href=\"http://srv.ktbl.de/data/psm/applicationTime\" target=\"_other\">http://srv.ktbl.de/data/psm/applicationTime</a></td></tr><tr class=even><td class=val><a href=\"http://srv.ktbl.de/data/psm/appliedOnCrop\" target=\"_other\">http://srv.ktbl.de/data/psm/appliedOnCrop</a></td></tr><tr class=odd><td class=val><a href=\"http://srv.ktbl.de/data/psm/appliedOnPest\" target=\"_other\">http://srv.ktbl.de/data/psm/appliedOnPest</a></td></tr><tr class=even><td class=val><a href=\"http://srv.ktbl.de/data/psm/authorizationEnd\" target=\"_other\">http://srv.ktbl.de/data/psm/authorizationEnd</a></td></tr><tr class=odd><td class=val><a href=\"http://srv.ktbl.de/data/psm/authorizationStart\" target=\"_other\">http://srv.ktbl.de/data/psm/authorizationStart</a></td></tr><tr class=even><td class=val><a href=\"http://srv.ktbl.de/data/psm/ban\" target=\"_other\">http://srv.ktbl.de/data/psm/ban</a></td></tr><tr class=odd><td class=val><a href=\"http://srv.ktbl.de/data/psm/basicContent\" target=\"_other\">http://srv.ktbl.de/data/psm/basicContent</a></td></tr><tr class=even><td class=val><a href=\"http://srv.ktbl.de/data/psm/constraint\" target=\"_other\">http://srv.ktbl.de/data/psm/constraint</a></td></tr><tr class=odd><td class=val><a href=\"http://srv.ktbl.de/data/psm/constraintNumber\" target=\"_other\">http://srv.ktbl.de/data/psm/constraintNumber</a></td></tr><tr class=even><td class=val><a href=\"http://srv.ktbl.de/data/psm/contentActiveIngredient\" target=\"_other\">http://srv.ktbl.de/data/psm/contentActiveIngredient</a></td></tr><tr class=odd><td class=val><a href=\"http://srv.ktbl.de/data/psm/cropCode\" target=\"_other\">http://srv.ktbl.de/data/psm/cropCode</a></td></tr><tr class=even><td class=val><a href=\"http://srv.ktbl.de/data/psm/fieldOfApplication\" target=\"_other\">http://srv.ktbl.de/data/psm/fieldOfApplication</a></td></tr></table><div class=\"tinfo\">Total: 35, Shown: 20</div></div>"
      ]
     },
     "metadata": {},
     "output_type": "display_data"
    }
   ],
   "source": [
    "# get all properties\n",
    "SELECT DISTINCT ?property\n",
    "WHERE { [] ?property [] }\n",
    "ORDER BY ?property\n"
   ]
  },
  {
   "cell_type": "code",
   "execution_count": 6,
   "id": "4cb8abb7-3dbe-476b-b6a2-ab4746804740",
   "metadata": {},
   "outputs": [
    {
     "data": {
      "text/html": [
       "<div class=\"krn-spql\"><table><tr class=hdr><th>agent</th>\n",
       "<th>authorizationStart</th>\n",
       "<th>authorizationEnd</th></tr><tr class=odd><td class=val><a href=\"http://srv.ktbl.de/data/psm/resources/ex_003887-00\" target=\"_other\">http://srv.ktbl.de/data/psm/resources/ex_003887-00</a></td>\n",
       "<td class=val>1989-01-12T23:00:00Z</td>\n",
       "<td class=val>2001-12-30T23:00:00Z</td></tr><tr class=even><td class=val><a href=\"http://srv.ktbl.de/data/psm/resources/ex_023547-00\" target=\"_other\">http://srv.ktbl.de/data/psm/resources/ex_023547-00</a></td>\n",
       "<td class=val>1989-01-17T23:00:00Z</td>\n",
       "<td class=val>2000-12-30T23:00:00Z</td></tr><tr class=odd><td class=val><a href=\"http://srv.ktbl.de/data/psm/resources/ex_030340-00\" target=\"_other\">http://srv.ktbl.de/data/psm/resources/ex_030340-00</a></td>\n",
       "<td class=val>1989-01-31T23:00:00Z</td>\n",
       "<td class=val>2001-12-30T23:00:00Z</td></tr><tr class=even><td class=val><a href=\"http://srv.ktbl.de/data/psm/resources/ex_023027-00\" target=\"_other\">http://srv.ktbl.de/data/psm/resources/ex_023027-00</a></td>\n",
       "<td class=val>1989-02-06T23:00:00Z</td>\n",
       "<td class=val>2004-11-29T23:00:00Z</td></tr><tr class=odd><td class=val><a href=\"http://srv.ktbl.de/data/psm/resources/ex_030255-00\" target=\"_other\">http://srv.ktbl.de/data/psm/resources/ex_030255-00</a></td>\n",
       "<td class=val>1989-02-19T23:00:00Z</td>\n",
       "<td class=val>2002-12-30T23:00:00Z</td></tr><tr class=even><td class=val><a href=\"http://srv.ktbl.de/data/psm/resources/ex_003891-00\" target=\"_other\">http://srv.ktbl.de/data/psm/resources/ex_003891-00</a></td>\n",
       "<td class=val>1989-03-27T22:00:00Z</td>\n",
       "<td class=val>2000-12-30T23:00:00Z</td></tr><tr class=odd><td class=val><a href=\"http://srv.ktbl.de/data/psm/resources/ex_032977-00\" target=\"_other\">http://srv.ktbl.de/data/psm/resources/ex_032977-00</a></td>\n",
       "<td class=val>1989-03-29T22:00:00Z</td>\n",
       "<td class=val>2003-12-30T23:00:00Z</td></tr><tr class=even><td class=val><a href=\"http://srv.ktbl.de/data/psm/resources/ex_032597-00\" target=\"_other\">http://srv.ktbl.de/data/psm/resources/ex_032597-00</a></td>\n",
       "<td class=val>1989-04-05T22:00:00Z</td>\n",
       "<td class=val>2001-12-30T23:00:00Z</td></tr><tr class=odd><td class=val><a href=\"http://srv.ktbl.de/data/psm/resources/ex_023653-00\" target=\"_other\">http://srv.ktbl.de/data/psm/resources/ex_023653-00</a></td>\n",
       "<td class=val>1989-04-06T22:00:00Z</td>\n",
       "<td class=val>2002-12-30T23:00:00Z</td></tr><tr class=even><td class=val><a href=\"http://srv.ktbl.de/data/psm/resources/ex_023186-00\" target=\"_other\">http://srv.ktbl.de/data/psm/resources/ex_023186-00</a></td>\n",
       "<td class=val>1989-04-19T22:00:00Z</td>\n",
       "<td class=val>2002-12-30T23:00:00Z</td></tr><tr class=odd><td class=val><a href=\"http://srv.ktbl.de/data/psm/resources/ex_031409-00\" target=\"_other\">http://srv.ktbl.de/data/psm/resources/ex_031409-00</a></td>\n",
       "<td class=val>1989-05-11T22:00:00Z</td>\n",
       "<td class=val>2002-01-07T23:00:00Z</td></tr><tr class=even><td class=val><a href=\"http://srv.ktbl.de/data/psm/resources/ex_022905-00\" target=\"_other\">http://srv.ktbl.de/data/psm/resources/ex_022905-00</a></td>\n",
       "<td class=val>1989-05-18T22:00:00Z</td>\n",
       "<td class=val>2003-12-30T23:00:00Z</td></tr><tr class=odd><td class=val><a href=\"http://srv.ktbl.de/data/psm/resources/ex_003906-00\" target=\"_other\">http://srv.ktbl.de/data/psm/resources/ex_003906-00</a></td>\n",
       "<td class=val>1989-08-10T22:00:00Z</td>\n",
       "<td class=val>2001-12-30T23:00:00Z</td></tr><tr class=even><td class=val><a href=\"http://srv.ktbl.de/data/psm/resources/ex_023567-00\" target=\"_other\">http://srv.ktbl.de/data/psm/resources/ex_023567-00</a></td>\n",
       "<td class=val>1989-08-31T22:00:00Z</td>\n",
       "<td class=val>2001-12-30T23:00:00Z</td></tr><tr class=odd><td class=val><a href=\"http://srv.ktbl.de/data/psm/resources/ex_023765-00\" target=\"_other\">http://srv.ktbl.de/data/psm/resources/ex_023765-00</a></td>\n",
       "<td class=val>1989-10-19T23:00:00Z</td>\n",
       "<td class=val>2002-12-30T23:00:00Z</td></tr><tr class=even><td class=val><a href=\"http://srv.ktbl.de/data/psm/resources/ex_023709-00\" target=\"_other\">http://srv.ktbl.de/data/psm/resources/ex_023709-00</a></td>\n",
       "<td class=val>1989-11-22T23:00:00Z</td>\n",
       "<td class=val>2002-12-30T23:00:00Z</td></tr><tr class=odd><td class=val><a href=\"http://srv.ktbl.de/data/psm/resources/ex_031413-00\" target=\"_other\">http://srv.ktbl.de/data/psm/resources/ex_031413-00</a></td>\n",
       "<td class=val>1990-01-02T23:00:00Z</td>\n",
       "<td class=val>2000-12-30T23:00:00Z</td></tr><tr class=even><td class=val><a href=\"http://srv.ktbl.de/data/psm/resources/ex_030879-00\" target=\"_other\">http://srv.ktbl.de/data/psm/resources/ex_030879-00</a></td>\n",
       "<td class=val>1990-02-07T23:00:00Z</td>\n",
       "<td class=val>2001-06-29T22:00:00Z</td></tr><tr class=odd><td class=val><a href=\"http://srv.ktbl.de/data/psm/resources/ex_022239-00\" target=\"_other\">http://srv.ktbl.de/data/psm/resources/ex_022239-00</a></td>\n",
       "<td class=val>1990-02-12T23:00:00Z</td>\n",
       "<td class=val>2001-09-29T22:00:00Z</td></tr><tr class=even><td class=val><a href=\"http://srv.ktbl.de/data/psm/resources/ex_023219-00\" target=\"_other\">http://srv.ktbl.de/data/psm/resources/ex_023219-00</a></td>\n",
       "<td class=val>1990-02-20T23:00:00Z</td>\n",
       "<td class=val>2000-12-30T23:00:00Z</td></tr></table><div class=\"tinfo\">Total: 5139, Shown: 20</div></div>"
      ]
     },
     "metadata": {},
     "output_type": "display_data"
    }
   ],
   "source": [
    "# Agent authorization start and end\n",
    "PREFIX psm: <http://srv.ktbl.de/data/psm/>\n",
    "\n",
    "SELECT ?agent ?authorizationStart ?authorizationEnd\n",
    "WHERE {\n",
    "          \t?agent psm:authorizationStart ?authorizationStart.\n",
    "?agent psm:authorizationEnd ?authorizationEnd.\n",
    "          \n",
    " }\n"
   ]
  },
  {
   "cell_type": "code",
   "execution_count": 8,
   "id": "b5354208-7c46-4724-b179-6eb723edfdf5",
   "metadata": {
    "scrolled": true
   },
   "outputs": [
    {
     "data": {
      "text/html": [
       "<div class=\"krn-spql\"><table><tr class=hdr><th>application</th>\n",
       "<th>agent</th>\n",
       "<th>pestname</th></tr><tr class=odd><td class=val><a href=\"http://srv.ktbl.de/data/psm/resources/ind_004329-00-00-001\" target=\"_other\">http://srv.ktbl.de/data/psm/resources/ind_004329-00-00-001</a></td>\n",
       "<td class=val><a href=\"http://srv.ktbl.de/data/psm/resources/age_004329-00\" target=\"_other\">http://srv.ktbl.de/data/psm/resources/age_004329-00</a></td>\n",
       "<td class=val>powdery mildew (Erysiphe graminis)</td></tr><tr class=even><td class=val><a href=\"http://srv.ktbl.de/data/psm/resources/ind_004329-00-00-002\" target=\"_other\">http://srv.ktbl.de/data/psm/resources/ind_004329-00-00-002</a></td>\n",
       "<td class=val><a href=\"http://srv.ktbl.de/data/psm/resources/age_004329-00\" target=\"_other\">http://srv.ktbl.de/data/psm/resources/age_004329-00</a></td>\n",
       "<td class=val>septoria leaf spot (Septoria nodorum)</td></tr><tr class=odd><td class=val><a href=\"http://srv.ktbl.de/data/psm/resources/ind_004329-00-00-003\" target=\"_other\">http://srv.ktbl.de/data/psm/resources/ind_004329-00-00-003</a></td>\n",
       "<td class=val><a href=\"http://srv.ktbl.de/data/psm/resources/age_004329-00\" target=\"_other\">http://srv.ktbl.de/data/psm/resources/age_004329-00</a></td>\n",
       "<td class=val>leaf blotch (Septoria tritici)</td></tr><tr class=even><td class=val><a href=\"http://srv.ktbl.de/data/psm/resources/ind_004329-00-00-004\" target=\"_other\">http://srv.ktbl.de/data/psm/resources/ind_004329-00-00-004</a></td>\n",
       "<td class=val><a href=\"http://srv.ktbl.de/data/psm/resources/age_004329-00\" target=\"_other\">http://srv.ktbl.de/data/psm/resources/age_004329-00</a></td>\n",
       "<td class=val>stripe rust of grasses (Puccinia striiformis)</td></tr><tr class=odd><td class=val><a href=\"http://srv.ktbl.de/data/psm/resources/ind_004329-00-00-005\" target=\"_other\">http://srv.ktbl.de/data/psm/resources/ind_004329-00-00-005</a></td>\n",
       "<td class=val><a href=\"http://srv.ktbl.de/data/psm/resources/age_004329-00\" target=\"_other\">http://srv.ktbl.de/data/psm/resources/age_004329-00</a></td>\n",
       "<td class=val>brown leaf rust of cereals (Puccinia recondita)</td></tr><tr class=even><td class=val><a href=\"http://srv.ktbl.de/data/psm/resources/ind_004329-00-01-001\" target=\"_other\">http://srv.ktbl.de/data/psm/resources/ind_004329-00-01-001</a></td>\n",
       "<td class=val><a href=\"http://srv.ktbl.de/data/psm/resources/age_004329-00\" target=\"_other\">http://srv.ktbl.de/data/psm/resources/age_004329-00</a></td>\n",
       "<td class=val>leaf spot (Cercospora beticola)</td></tr><tr class=odd><td class=val><a href=\"http://srv.ktbl.de/data/psm/resources/ind_004329-00-01-002\" target=\"_other\">http://srv.ktbl.de/data/psm/resources/ind_004329-00-01-002</a></td>\n",
       "<td class=val><a href=\"http://srv.ktbl.de/data/psm/resources/age_004329-00\" target=\"_other\">http://srv.ktbl.de/data/psm/resources/age_004329-00</a></td>\n",
       "<td class=val>leaf spot of beet (Ramularia beticola)</td></tr><tr class=even><td class=val><a href=\"http://srv.ktbl.de/data/psm/resources/ind_004329-00-01-003\" target=\"_other\">http://srv.ktbl.de/data/psm/resources/ind_004329-00-01-003</a></td>\n",
       "<td class=val><a href=\"http://srv.ktbl.de/data/psm/resources/age_004329-00\" target=\"_other\">http://srv.ktbl.de/data/psm/resources/age_004329-00</a></td>\n",
       "<td class=val>powdery mildew (Erysiphe betae)</td></tr><tr class=odd><td class=val><a href=\"http://srv.ktbl.de/data/psm/resources/ind_004329-60-00-001\" target=\"_other\">http://srv.ktbl.de/data/psm/resources/ind_004329-60-00-001</a></td>\n",
       "<td class=val><a href=\"http://srv.ktbl.de/data/psm/resources/age_004329-60\" target=\"_other\">http://srv.ktbl.de/data/psm/resources/age_004329-60</a></td>\n",
       "<td class=val>powdery mildew (Erysiphe graminis)</td></tr><tr class=even><td class=val><a href=\"http://srv.ktbl.de/data/psm/resources/ind_004329-60-00-002\" target=\"_other\">http://srv.ktbl.de/data/psm/resources/ind_004329-60-00-002</a></td>\n",
       "<td class=val><a href=\"http://srv.ktbl.de/data/psm/resources/age_004329-60\" target=\"_other\">http://srv.ktbl.de/data/psm/resources/age_004329-60</a></td>\n",
       "<td class=val>septoria leaf spot (Septoria nodorum)</td></tr><tr class=odd><td class=val><a href=\"http://srv.ktbl.de/data/psm/resources/ind_004329-60-00-003\" target=\"_other\">http://srv.ktbl.de/data/psm/resources/ind_004329-60-00-003</a></td>\n",
       "<td class=val><a href=\"http://srv.ktbl.de/data/psm/resources/age_004329-60\" target=\"_other\">http://srv.ktbl.de/data/psm/resources/age_004329-60</a></td>\n",
       "<td class=val>leaf blotch (Septoria tritici)</td></tr><tr class=even><td class=val><a href=\"http://srv.ktbl.de/data/psm/resources/ind_004329-60-00-004\" target=\"_other\">http://srv.ktbl.de/data/psm/resources/ind_004329-60-00-004</a></td>\n",
       "<td class=val><a href=\"http://srv.ktbl.de/data/psm/resources/age_004329-60\" target=\"_other\">http://srv.ktbl.de/data/psm/resources/age_004329-60</a></td>\n",
       "<td class=val>stripe rust of grasses (Puccinia striiformis)</td></tr><tr class=odd><td class=val><a href=\"http://srv.ktbl.de/data/psm/resources/ind_004329-60-00-005\" target=\"_other\">http://srv.ktbl.de/data/psm/resources/ind_004329-60-00-005</a></td>\n",
       "<td class=val><a href=\"http://srv.ktbl.de/data/psm/resources/age_004329-60\" target=\"_other\">http://srv.ktbl.de/data/psm/resources/age_004329-60</a></td>\n",
       "<td class=val>brown leaf rust of cereals (Puccinia recondita)</td></tr><tr class=even><td class=val><a href=\"http://srv.ktbl.de/data/psm/resources/ind_004329-60-01-001\" target=\"_other\">http://srv.ktbl.de/data/psm/resources/ind_004329-60-01-001</a></td>\n",
       "<td class=val><a href=\"http://srv.ktbl.de/data/psm/resources/age_004329-60\" target=\"_other\">http://srv.ktbl.de/data/psm/resources/age_004329-60</a></td>\n",
       "<td class=val>leaf spot (Cercospora beticola)</td></tr><tr class=odd><td class=val><a href=\"http://srv.ktbl.de/data/psm/resources/ind_004329-60-01-002\" target=\"_other\">http://srv.ktbl.de/data/psm/resources/ind_004329-60-01-002</a></td>\n",
       "<td class=val><a href=\"http://srv.ktbl.de/data/psm/resources/age_004329-60\" target=\"_other\">http://srv.ktbl.de/data/psm/resources/age_004329-60</a></td>\n",
       "<td class=val>leaf spot of beet (Ramularia beticola)</td></tr><tr class=even><td class=val><a href=\"http://srv.ktbl.de/data/psm/resources/ind_004329-60-01-003\" target=\"_other\">http://srv.ktbl.de/data/psm/resources/ind_004329-60-01-003</a></td>\n",
       "<td class=val><a href=\"http://srv.ktbl.de/data/psm/resources/age_004329-60\" target=\"_other\">http://srv.ktbl.de/data/psm/resources/age_004329-60</a></td>\n",
       "<td class=val>powdery mildew (Erysiphe betae)</td></tr><tr class=odd><td class=val><a href=\"http://srv.ktbl.de/data/psm/resources/ind_004329-61-00-001\" target=\"_other\">http://srv.ktbl.de/data/psm/resources/ind_004329-61-00-001</a></td>\n",
       "<td class=val><a href=\"http://srv.ktbl.de/data/psm/resources/age_004329-61\" target=\"_other\">http://srv.ktbl.de/data/psm/resources/age_004329-61</a></td>\n",
       "<td class=val>powdery mildew (Erysiphe graminis)</td></tr><tr class=even><td class=val><a href=\"http://srv.ktbl.de/data/psm/resources/ind_004329-61-00-002\" target=\"_other\">http://srv.ktbl.de/data/psm/resources/ind_004329-61-00-002</a></td>\n",
       "<td class=val><a href=\"http://srv.ktbl.de/data/psm/resources/age_004329-61\" target=\"_other\">http://srv.ktbl.de/data/psm/resources/age_004329-61</a></td>\n",
       "<td class=val>septoria leaf spot (Septoria nodorum)</td></tr><tr class=odd><td class=val><a href=\"http://srv.ktbl.de/data/psm/resources/ind_004329-61-00-003\" target=\"_other\">http://srv.ktbl.de/data/psm/resources/ind_004329-61-00-003</a></td>\n",
       "<td class=val><a href=\"http://srv.ktbl.de/data/psm/resources/age_004329-61\" target=\"_other\">http://srv.ktbl.de/data/psm/resources/age_004329-61</a></td>\n",
       "<td class=val>leaf blotch (Septoria tritici)</td></tr><tr class=even><td class=val><a href=\"http://srv.ktbl.de/data/psm/resources/ind_004329-61-00-004\" target=\"_other\">http://srv.ktbl.de/data/psm/resources/ind_004329-61-00-004</a></td>\n",
       "<td class=val><a href=\"http://srv.ktbl.de/data/psm/resources/age_004329-61\" target=\"_other\">http://srv.ktbl.de/data/psm/resources/age_004329-61</a></td>\n",
       "<td class=val>stripe rust of grasses (Puccinia striiformis)</td></tr></table><div class=\"tinfo\">Total: 44885, Shown: 20</div></div>"
      ]
     },
     "metadata": {},
     "output_type": "display_data"
    }
   ],
   "source": [
    "# get all indications, agents and english pestnames\n",
    "prefix psm: <http://srv.ktbl.de/data/psm/>\n",
    "prefix rdfs: <http://www.w3.org/2000/01/rdf-schema#>\n",
    "\n",
    "SELECT ?application ?agent ?pestname\n",
    "WHERE {?application psm:agent ?agent;\n",
    "                    psm:appliedOnPest ?pest.\n",
    "  \t\t?pest rdfs:label ?pestname.\n",
    "  FILTER(lang(?pestname)='en')\n",
    "\n",
    "} "
   ]
  },
  {
   "cell_type": "code",
   "execution_count": 9,
   "id": "56844c0f-5adb-4354-b477-de8966443075",
   "metadata": {},
   "outputs": [
    {
     "data": {
      "text/html": [
       "<div class=\"krn-spql\"><table><tr class=hdr><th>application</th>\n",
       "<th>pest</th>\n",
       "<th>pestSuperClass</th></tr><tr class=odd><td class=val><a href=\"http://srv.ktbl.de/data/psm/resources/ind_004329-00-00-001\" target=\"_other\">http://srv.ktbl.de/data/psm/resources/ind_004329-00-00-001</a></td>\n",
       "<td class=val><a href=\"http://srv.ktbl.de/data/psm/resources/pest_ERYSGR\" target=\"_other\">http://srv.ktbl.de/data/psm/resources/pest_ERYSGR</a></td>\n",
       "<td class=val><a href=\"http://srv.ktbl.de/data/psm/resources/pest_ERYSSI\" target=\"_other\">http://srv.ktbl.de/data/psm/resources/pest_ERYSSI</a></td></tr><tr class=even><td class=val><a href=\"http://srv.ktbl.de/data/psm/resources/ind_004329-60-00-001\" target=\"_other\">http://srv.ktbl.de/data/psm/resources/ind_004329-60-00-001</a></td>\n",
       "<td class=val><a href=\"http://srv.ktbl.de/data/psm/resources/pest_ERYSGR\" target=\"_other\">http://srv.ktbl.de/data/psm/resources/pest_ERYSGR</a></td>\n",
       "<td class=val><a href=\"http://srv.ktbl.de/data/psm/resources/pest_ERYSSI\" target=\"_other\">http://srv.ktbl.de/data/psm/resources/pest_ERYSSI</a></td></tr><tr class=odd><td class=val><a href=\"http://srv.ktbl.de/data/psm/resources/ind_004329-61-00-001\" target=\"_other\">http://srv.ktbl.de/data/psm/resources/ind_004329-61-00-001</a></td>\n",
       "<td class=val><a href=\"http://srv.ktbl.de/data/psm/resources/pest_ERYSGR\" target=\"_other\">http://srv.ktbl.de/data/psm/resources/pest_ERYSGR</a></td>\n",
       "<td class=val><a href=\"http://srv.ktbl.de/data/psm/resources/pest_ERYSSI\" target=\"_other\">http://srv.ktbl.de/data/psm/resources/pest_ERYSSI</a></td></tr><tr class=even><td class=val><a href=\"http://srv.ktbl.de/data/psm/resources/ind_004329-62-00-001\" target=\"_other\">http://srv.ktbl.de/data/psm/resources/ind_004329-62-00-001</a></td>\n",
       "<td class=val><a href=\"http://srv.ktbl.de/data/psm/resources/pest_ERYSGR\" target=\"_other\">http://srv.ktbl.de/data/psm/resources/pest_ERYSGR</a></td>\n",
       "<td class=val><a href=\"http://srv.ktbl.de/data/psm/resources/pest_ERYSSI\" target=\"_other\">http://srv.ktbl.de/data/psm/resources/pest_ERYSSI</a></td></tr><tr class=odd><td class=val><a href=\"http://srv.ktbl.de/data/psm/resources/ind_006306-00-00-002\" target=\"_other\">http://srv.ktbl.de/data/psm/resources/ind_006306-00-00-002</a></td>\n",
       "<td class=val><a href=\"http://srv.ktbl.de/data/psm/resources/pest_ERYSGR\" target=\"_other\">http://srv.ktbl.de/data/psm/resources/pest_ERYSGR</a></td>\n",
       "<td class=val><a href=\"http://srv.ktbl.de/data/psm/resources/pest_ERYSSI\" target=\"_other\">http://srv.ktbl.de/data/psm/resources/pest_ERYSSI</a></td></tr><tr class=even><td class=val><a href=\"http://srv.ktbl.de/data/psm/resources/ind_006341-00-00-001\" target=\"_other\">http://srv.ktbl.de/data/psm/resources/ind_006341-00-00-001</a></td>\n",
       "<td class=val><a href=\"http://srv.ktbl.de/data/psm/resources/pest_ERYSGR\" target=\"_other\">http://srv.ktbl.de/data/psm/resources/pest_ERYSGR</a></td>\n",
       "<td class=val><a href=\"http://srv.ktbl.de/data/psm/resources/pest_ERYSSI\" target=\"_other\">http://srv.ktbl.de/data/psm/resources/pest_ERYSSI</a></td></tr><tr class=odd><td class=val><a href=\"http://srv.ktbl.de/data/psm/resources/ind_006341-00-00-005\" target=\"_other\">http://srv.ktbl.de/data/psm/resources/ind_006341-00-00-005</a></td>\n",
       "<td class=val><a href=\"http://srv.ktbl.de/data/psm/resources/pest_ERYSGR\" target=\"_other\">http://srv.ktbl.de/data/psm/resources/pest_ERYSGR</a></td>\n",
       "<td class=val><a href=\"http://srv.ktbl.de/data/psm/resources/pest_ERYSSI\" target=\"_other\">http://srv.ktbl.de/data/psm/resources/pest_ERYSSI</a></td></tr><tr class=even><td class=val><a href=\"http://srv.ktbl.de/data/psm/resources/ind_006341-00-00-009\" target=\"_other\">http://srv.ktbl.de/data/psm/resources/ind_006341-00-00-009</a></td>\n",
       "<td class=val><a href=\"http://srv.ktbl.de/data/psm/resources/pest_ERYSGR\" target=\"_other\">http://srv.ktbl.de/data/psm/resources/pest_ERYSGR</a></td>\n",
       "<td class=val><a href=\"http://srv.ktbl.de/data/psm/resources/pest_ERYSSI\" target=\"_other\">http://srv.ktbl.de/data/psm/resources/pest_ERYSSI</a></td></tr><tr class=odd><td class=val><a href=\"http://srv.ktbl.de/data/psm/resources/ind_006341-00-00-012\" target=\"_other\">http://srv.ktbl.de/data/psm/resources/ind_006341-00-00-012</a></td>\n",
       "<td class=val><a href=\"http://srv.ktbl.de/data/psm/resources/pest_ERYSGR\" target=\"_other\">http://srv.ktbl.de/data/psm/resources/pest_ERYSGR</a></td>\n",
       "<td class=val><a href=\"http://srv.ktbl.de/data/psm/resources/pest_ERYSSI\" target=\"_other\">http://srv.ktbl.de/data/psm/resources/pest_ERYSSI</a></td></tr><tr class=even><td class=val><a href=\"http://srv.ktbl.de/data/psm/resources/ind_006345-00-00-001\" target=\"_other\">http://srv.ktbl.de/data/psm/resources/ind_006345-00-00-001</a></td>\n",
       "<td class=val><a href=\"http://srv.ktbl.de/data/psm/resources/pest_ERYSGR\" target=\"_other\">http://srv.ktbl.de/data/psm/resources/pest_ERYSGR</a></td>\n",
       "<td class=val><a href=\"http://srv.ktbl.de/data/psm/resources/pest_ERYSSI\" target=\"_other\">http://srv.ktbl.de/data/psm/resources/pest_ERYSSI</a></td></tr><tr class=odd><td class=val><a href=\"http://srv.ktbl.de/data/psm/resources/ind_006345-00-00-003\" target=\"_other\">http://srv.ktbl.de/data/psm/resources/ind_006345-00-00-003</a></td>\n",
       "<td class=val><a href=\"http://srv.ktbl.de/data/psm/resources/pest_ERYSGR\" target=\"_other\">http://srv.ktbl.de/data/psm/resources/pest_ERYSGR</a></td>\n",
       "<td class=val><a href=\"http://srv.ktbl.de/data/psm/resources/pest_ERYSSI\" target=\"_other\">http://srv.ktbl.de/data/psm/resources/pest_ERYSSI</a></td></tr><tr class=even><td class=val><a href=\"http://srv.ktbl.de/data/psm/resources/ind_006345-00-00-005\" target=\"_other\">http://srv.ktbl.de/data/psm/resources/ind_006345-00-00-005</a></td>\n",
       "<td class=val><a href=\"http://srv.ktbl.de/data/psm/resources/pest_ERYSGR\" target=\"_other\">http://srv.ktbl.de/data/psm/resources/pest_ERYSGR</a></td>\n",
       "<td class=val><a href=\"http://srv.ktbl.de/data/psm/resources/pest_ERYSSI\" target=\"_other\">http://srv.ktbl.de/data/psm/resources/pest_ERYSSI</a></td></tr><tr class=odd><td class=val><a href=\"http://srv.ktbl.de/data/psm/resources/ind_006400-00-00-002\" target=\"_other\">http://srv.ktbl.de/data/psm/resources/ind_006400-00-00-002</a></td>\n",
       "<td class=val><a href=\"http://srv.ktbl.de/data/psm/resources/pest_ERYSGR\" target=\"_other\">http://srv.ktbl.de/data/psm/resources/pest_ERYSGR</a></td>\n",
       "<td class=val><a href=\"http://srv.ktbl.de/data/psm/resources/pest_ERYSSI\" target=\"_other\">http://srv.ktbl.de/data/psm/resources/pest_ERYSSI</a></td></tr><tr class=even><td class=val><a href=\"http://srv.ktbl.de/data/psm/resources/ind_006400-00-00-008\" target=\"_other\">http://srv.ktbl.de/data/psm/resources/ind_006400-00-00-008</a></td>\n",
       "<td class=val><a href=\"http://srv.ktbl.de/data/psm/resources/pest_ERYSGR\" target=\"_other\">http://srv.ktbl.de/data/psm/resources/pest_ERYSGR</a></td>\n",
       "<td class=val><a href=\"http://srv.ktbl.de/data/psm/resources/pest_ERYSSI\" target=\"_other\">http://srv.ktbl.de/data/psm/resources/pest_ERYSSI</a></td></tr><tr class=odd><td class=val><a href=\"http://srv.ktbl.de/data/psm/resources/ind_006400-60-00-002\" target=\"_other\">http://srv.ktbl.de/data/psm/resources/ind_006400-60-00-002</a></td>\n",
       "<td class=val><a href=\"http://srv.ktbl.de/data/psm/resources/pest_ERYSGR\" target=\"_other\">http://srv.ktbl.de/data/psm/resources/pest_ERYSGR</a></td>\n",
       "<td class=val><a href=\"http://srv.ktbl.de/data/psm/resources/pest_ERYSSI\" target=\"_other\">http://srv.ktbl.de/data/psm/resources/pest_ERYSSI</a></td></tr><tr class=even><td class=val><a href=\"http://srv.ktbl.de/data/psm/resources/ind_006400-60-00-008\" target=\"_other\">http://srv.ktbl.de/data/psm/resources/ind_006400-60-00-008</a></td>\n",
       "<td class=val><a href=\"http://srv.ktbl.de/data/psm/resources/pest_ERYSGR\" target=\"_other\">http://srv.ktbl.de/data/psm/resources/pest_ERYSGR</a></td>\n",
       "<td class=val><a href=\"http://srv.ktbl.de/data/psm/resources/pest_ERYSSI\" target=\"_other\">http://srv.ktbl.de/data/psm/resources/pest_ERYSSI</a></td></tr><tr class=odd><td class=val><a href=\"http://srv.ktbl.de/data/psm/resources/ind_007180-00-01-004\" target=\"_other\">http://srv.ktbl.de/data/psm/resources/ind_007180-00-01-004</a></td>\n",
       "<td class=val><a href=\"http://srv.ktbl.de/data/psm/resources/pest_ERYSGR\" target=\"_other\">http://srv.ktbl.de/data/psm/resources/pest_ERYSGR</a></td>\n",
       "<td class=val><a href=\"http://srv.ktbl.de/data/psm/resources/pest_ERYSSI\" target=\"_other\">http://srv.ktbl.de/data/psm/resources/pest_ERYSSI</a></td></tr><tr class=even><td class=val><a href=\"http://srv.ktbl.de/data/psm/resources/ind_007180-60-01-004\" target=\"_other\">http://srv.ktbl.de/data/psm/resources/ind_007180-60-01-004</a></td>\n",
       "<td class=val><a href=\"http://srv.ktbl.de/data/psm/resources/pest_ERYSGR\" target=\"_other\">http://srv.ktbl.de/data/psm/resources/pest_ERYSGR</a></td>\n",
       "<td class=val><a href=\"http://srv.ktbl.de/data/psm/resources/pest_ERYSSI\" target=\"_other\">http://srv.ktbl.de/data/psm/resources/pest_ERYSSI</a></td></tr><tr class=odd><td class=val><a href=\"http://srv.ktbl.de/data/psm/resources/ind_007454-00-00-001\" target=\"_other\">http://srv.ktbl.de/data/psm/resources/ind_007454-00-00-001</a></td>\n",
       "<td class=val><a href=\"http://srv.ktbl.de/data/psm/resources/pest_ERYSGR\" target=\"_other\">http://srv.ktbl.de/data/psm/resources/pest_ERYSGR</a></td>\n",
       "<td class=val><a href=\"http://srv.ktbl.de/data/psm/resources/pest_ERYSSI\" target=\"_other\">http://srv.ktbl.de/data/psm/resources/pest_ERYSSI</a></td></tr><tr class=even><td class=val><a href=\"http://srv.ktbl.de/data/psm/resources/ind_007454-60-00-001\" target=\"_other\">http://srv.ktbl.de/data/psm/resources/ind_007454-60-00-001</a></td>\n",
       "<td class=val><a href=\"http://srv.ktbl.de/data/psm/resources/pest_ERYSGR\" target=\"_other\">http://srv.ktbl.de/data/psm/resources/pest_ERYSGR</a></td>\n",
       "<td class=val><a href=\"http://srv.ktbl.de/data/psm/resources/pest_ERYSSI\" target=\"_other\">http://srv.ktbl.de/data/psm/resources/pest_ERYSSI</a></td></tr></table><div class=\"tinfo\">Total: 49353, Shown: 20</div></div>"
      ]
     },
     "metadata": {},
     "output_type": "display_data"
    }
   ],
   "source": [
    "# get superclass of actual pest (pest hierarchy), similar to crop hierarchy\n",
    "prefix psm: <http://srv.ktbl.de/data/psm/>\n",
    "prefix rdfs: <http://www.w3.org/2000/01/rdf-schema#>\n",
    "\n",
    "SELECT ?application ?pest ?pestSuperClass \n",
    "WHERE {?application psm:appliedOnPest ?pest.\n",
    "?pest rdfs:subClassOf ?pestSuperClass.\n",
    " \n",
    " }\n"
   ]
  },
  {
   "cell_type": "code",
   "execution_count": 10,
   "id": "e71a7a08-43e4-4873-ab46-4a0fb5536a24",
   "metadata": {},
   "outputs": [
    {
     "data": {
      "text/html": [
       "<div class=\"krn-spql\"><table><tr class=hdr><th>application</th></tr><tr class=odd><td class=val><a href=\"http://srv.ktbl.de/data/psm/resources/ind_005017-00-02-003\" target=\"_other\">http://srv.ktbl.de/data/psm/resources/ind_005017-00-02-003</a></td></tr><tr class=even><td class=val><a href=\"http://srv.ktbl.de/data/psm/resources/ind_005958-00-02-003\" target=\"_other\">http://srv.ktbl.de/data/psm/resources/ind_005958-00-02-003</a></td></tr><tr class=odd><td class=val><a href=\"http://srv.ktbl.de/data/psm/resources/ind_005958-60-02-003\" target=\"_other\">http://srv.ktbl.de/data/psm/resources/ind_005958-60-02-003</a></td></tr><tr class=even><td class=val><a href=\"http://srv.ktbl.de/data/psm/resources/ind_006149-00-03-001\" target=\"_other\">http://srv.ktbl.de/data/psm/resources/ind_006149-00-03-001</a></td></tr><tr class=odd><td class=val><a href=\"http://srv.ktbl.de/data/psm/resources/ind_006149-60-03-001\" target=\"_other\">http://srv.ktbl.de/data/psm/resources/ind_006149-60-03-001</a></td></tr><tr class=even><td class=val><a href=\"http://srv.ktbl.de/data/psm/resources/ind_006218-00-01-003\" target=\"_other\">http://srv.ktbl.de/data/psm/resources/ind_006218-00-01-003</a></td></tr><tr class=odd><td class=val><a href=\"http://srv.ktbl.de/data/psm/resources/ind_006387-00-00-018\" target=\"_other\">http://srv.ktbl.de/data/psm/resources/ind_006387-00-00-018</a></td></tr><tr class=even><td class=val><a href=\"http://srv.ktbl.de/data/psm/resources/ind_006387-61-00-018\" target=\"_other\">http://srv.ktbl.de/data/psm/resources/ind_006387-61-00-018</a></td></tr><tr class=odd><td class=val><a href=\"http://srv.ktbl.de/data/psm/resources/ind_006387-62-00-018\" target=\"_other\">http://srv.ktbl.de/data/psm/resources/ind_006387-62-00-018</a></td></tr><tr class=even><td class=val><a href=\"http://srv.ktbl.de/data/psm/resources/ind_006387-63-00-018\" target=\"_other\">http://srv.ktbl.de/data/psm/resources/ind_006387-63-00-018</a></td></tr><tr class=odd><td class=val><a href=\"http://srv.ktbl.de/data/psm/resources/ind_006387-64-00-018\" target=\"_other\">http://srv.ktbl.de/data/psm/resources/ind_006387-64-00-018</a></td></tr><tr class=even><td class=val><a href=\"http://srv.ktbl.de/data/psm/resources/ind_006840-00-01-001\" target=\"_other\">http://srv.ktbl.de/data/psm/resources/ind_006840-00-01-001</a></td></tr><tr class=odd><td class=val><a href=\"http://srv.ktbl.de/data/psm/resources/ind_006840-60-01-001\" target=\"_other\">http://srv.ktbl.de/data/psm/resources/ind_006840-60-01-001</a></td></tr><tr class=even><td class=val><a href=\"http://srv.ktbl.de/data/psm/resources/ind_007003-00-02-001\" target=\"_other\">http://srv.ktbl.de/data/psm/resources/ind_007003-00-02-001</a></td></tr><tr class=odd><td class=val><a href=\"http://srv.ktbl.de/data/psm/resources/ind_007003-00-02-002\" target=\"_other\">http://srv.ktbl.de/data/psm/resources/ind_007003-00-02-002</a></td></tr><tr class=even><td class=val><a href=\"http://srv.ktbl.de/data/psm/resources/ind_007003-00-02-003\" target=\"_other\">http://srv.ktbl.de/data/psm/resources/ind_007003-00-02-003</a></td></tr><tr class=odd><td class=val><a href=\"http://srv.ktbl.de/data/psm/resources/ind_007003-60-02-001\" target=\"_other\">http://srv.ktbl.de/data/psm/resources/ind_007003-60-02-001</a></td></tr><tr class=even><td class=val><a href=\"http://srv.ktbl.de/data/psm/resources/ind_007003-60-02-002\" target=\"_other\">http://srv.ktbl.de/data/psm/resources/ind_007003-60-02-002</a></td></tr><tr class=odd><td class=val><a href=\"http://srv.ktbl.de/data/psm/resources/ind_007003-60-02-003\" target=\"_other\">http://srv.ktbl.de/data/psm/resources/ind_007003-60-02-003</a></td></tr><tr class=even><td class=val><a href=\"http://srv.ktbl.de/data/psm/resources/ind_007138-00-01-005\" target=\"_other\">http://srv.ktbl.de/data/psm/resources/ind_007138-00-01-005</a></td></tr></table><div class=\"tinfo\">Total: 141, Shown: 20</div></div>"
      ]
     },
     "metadata": {},
     "output_type": "display_data"
    }
   ],
   "source": [
    "# get all indications applied on crop with cropcode \"GGGGG\"\n",
    "prefix psm: <http://srv.ktbl.de/data/psm/>\n",
    "prefix rdfs: <http://www.w3.org/2000/01/rdf-schema#>\n",
    "\n",
    "SELECT ?application\n",
    "WHERE {?application psm:appliedOnCrop ?crop.\n",
    "\t ?crop psm:cropCode \"GGGGG\".\n",
    " }\n",
    "order by asc(UCASE(str(?application)))"
   ]
  },
  {
   "cell_type": "code",
   "execution_count": 11,
   "id": "741689e3-9a6a-41b9-aa9c-78f332d12ac0",
   "metadata": {},
   "outputs": [
    {
     "data": {
      "text/html": [
       "<div class=\"krn-spql\"><table><tr class=hdr><th>crop</th>\n",
       "<th>cropgroup</th></tr><tr class=odd><td class=val>Thymian, Gemeiner</td>\n",
       "<td class=val>Thymian, Gemeiner</td></tr><tr class=even><td class=val>Thymian, Gemeiner</td>\n",
       "<td class=val>Arzneipflanzen</td></tr><tr class=odd><td class=val>Thymian, Gemeiner</td>\n",
       "<td class=val>Gemüsekulturen</td></tr><tr class=even><td class=val>Thymian, Gemeiner</td>\n",
       "<td class=val>Kultur / Objekt</td></tr><tr class=odd><td class=val>Thymian, Gemeiner</td>\n",
       "<td class=val>Vorratsgüter</td></tr><tr class=even><td class=val>Thymian, Gemeiner</td>\n",
       "<td class=val>Vorratsschutz</td></tr><tr class=odd><td class=val>Thymian, Gemeiner</td>\n",
       "<td class=val>Heilkräuter</td></tr><tr class=even><td class=val>Thymian, Gemeiner</td>\n",
       "<td class=val>Teekräuter</td></tr><tr class=odd><td class=val>Thymian, Gemeiner</td>\n",
       "<td class=val>Teeähnliche Erzeugnisse</td></tr><tr class=even><td class=val>Thymian, Gemeiner</td>\n",
       "<td class=val>Gewürze</td></tr><tr class=odd><td class=val>Thymian, Gemeiner</td>\n",
       "<td class=val>frische Kräuter</td></tr><tr class=even><td class=val>Thymian, Gemeiner</td>\n",
       "<td class=val>Blattgemüse und frische Kräuter</td></tr><tr class=odd><td class=val>Thymian, Gemeiner</td>\n",
       "<td class=val>Blatt- und Stielgemüse</td></tr><tr class=even><td class=val>Thymian, Gemeiner</td>\n",
       "<td class=val>Kräuter (trocken)</td></tr><tr class=odd><td class=val>Thymian, Gemeiner</td>\n",
       "<td class=val>Trockengemüse</td></tr></table><div class=\"tinfo\">Total: 15, Shown: 15</div></div>"
      ]
     },
     "metadata": {},
     "output_type": "display_data"
    }
   ],
   "source": [
    "# eventuell finetuning: get all german labels of super classes for a crop (THYVU – Thymian) \n",
    "\n",
    "prefix rdfs: <http://www.w3.org/2000/01/rdf-schema#>\n",
    "prefix psm: <http://srv.ktbl.de/data/psm/>\n",
    "prefix psmr: <http://srv.ktbl.de/data/psm/resources/> \n",
    "\n",
    "\n",
    "SELECT ?crop ?cropgroup\n",
    "WHERE{psmr:crop_THYVU a psm:Crop;\n",
    "            rdfs:label ?crop;\n",
    "\trdfs:subClassOf*/rdfs:label ?cropgroup.\n",
    " \t FILTER(lang(?crop)=\"de\")\n",
    "\tFILTER(lang(?cropgroup)= \"de\")\n",
    "}\n"
   ]
  },
  {
   "cell_type": "code",
   "execution_count": 12,
   "id": "7d304eb3-4020-4807-87f7-5693c14917c7",
   "metadata": {},
   "outputs": [
    {
     "data": {
      "text/html": [
       "<div class=\"krn-spql\"><table><tr class=hdr><th>subject</th>\n",
       "<th>c_num</th></tr><tr class=odd><td class=val><a href=\"http://srv.ktbl.de/data/psm/resources/ind_024560-79-00-017\" target=\"_other\">http://srv.ktbl.de/data/psm/resources/ind_024560-79-00-017</a></td>\n",
       "<td class=val>3</td></tr><tr class=even><td class=val><a href=\"http://srv.ktbl.de/data/psm/resources/ind_007402-62-00-004\" target=\"_other\">http://srv.ktbl.de/data/psm/resources/ind_007402-62-00-004</a></td>\n",
       "<td class=val>1</td></tr><tr class=odd><td class=val><a href=\"http://srv.ktbl.de/data/psm/resources/ind_024780-60-05-003\" target=\"_other\">http://srv.ktbl.de/data/psm/resources/ind_024780-60-05-003</a></td>\n",
       "<td class=val>1</td></tr><tr class=even><td class=val><a href=\"http://srv.ktbl.de/data/psm/resources/ind_008470-60-02-030\" target=\"_other\">http://srv.ktbl.de/data/psm/resources/ind_008470-60-02-030</a></td>\n",
       "<td class=val>0</td></tr><tr class=odd><td class=val><a href=\"http://srv.ktbl.de/data/psm/resources/ind_006220-00-02-004\" target=\"_other\">http://srv.ktbl.de/data/psm/resources/ind_006220-00-02-004</a></td>\n",
       "<td class=val>1</td></tr><tr class=even><td class=val><a href=\"http://srv.ktbl.de/data/psm/resources/ind_024560-75-00-046\" target=\"_other\">http://srv.ktbl.de/data/psm/resources/ind_024560-75-00-046</a></td>\n",
       "<td class=val>0</td></tr><tr class=odd><td class=val><a href=\"http://srv.ktbl.de/data/psm/resources/ind_024780-64-04-037\" target=\"_other\">http://srv.ktbl.de/data/psm/resources/ind_024780-64-04-037</a></td>\n",
       "<td class=val>3</td></tr><tr class=even><td class=val><a href=\"http://srv.ktbl.de/data/psm/resources/ind_024785-74-02-005\" target=\"_other\">http://srv.ktbl.de/data/psm/resources/ind_024785-74-02-005</a></td>\n",
       "<td class=val>1</td></tr><tr class=odd><td class=val><a href=\"http://srv.ktbl.de/data/psm/resources/ind_006860-00-01-006\" target=\"_other\">http://srv.ktbl.de/data/psm/resources/ind_006860-00-01-006</a></td>\n",
       "<td class=val>3</td></tr><tr class=even><td class=val><a href=\"http://srv.ktbl.de/data/psm/resources/ind_008629-61-00-058\" target=\"_other\">http://srv.ktbl.de/data/psm/resources/ind_008629-61-00-058</a></td>\n",
       "<td class=val>0</td></tr><tr class=odd><td class=val><a href=\"http://srv.ktbl.de/data/psm/resources/ind_024847-61-00-003\" target=\"_other\">http://srv.ktbl.de/data/psm/resources/ind_024847-61-00-003</a></td>\n",
       "<td class=val>1</td></tr><tr class=even><td class=val><a href=\"http://srv.ktbl.de/data/psm/resources/ind_007507-62-00-014\" target=\"_other\">http://srv.ktbl.de/data/psm/resources/ind_007507-62-00-014</a></td>\n",
       "<td class=val>1</td></tr><tr class=odd><td class=val><a href=\"http://srv.ktbl.de/data/psm/resources/ind_007643-60-00-008\" target=\"_other\">http://srv.ktbl.de/data/psm/resources/ind_007643-60-00-008</a></td>\n",
       "<td class=val>2</td></tr><tr class=even><td class=val><a href=\"http://srv.ktbl.de/data/psm/resources/ind_005890-00-00-001\" target=\"_other\">http://srv.ktbl.de/data/psm/resources/ind_005890-00-00-001</a></td>\n",
       "<td class=val>1</td></tr><tr class=odd><td class=val><a href=\"http://srv.ktbl.de/data/psm/resources/ind_008629-64-00-030\" target=\"_other\">http://srv.ktbl.de/data/psm/resources/ind_008629-64-00-030</a></td>\n",
       "<td class=val>1</td></tr><tr class=even><td class=val><a href=\"http://srv.ktbl.de/data/psm/resources/ind_008361-00-00-002\" target=\"_other\">http://srv.ktbl.de/data/psm/resources/ind_008361-00-00-002</a></td>\n",
       "<td class=val>2</td></tr><tr class=odd><td class=val><a href=\"http://srv.ktbl.de/data/psm/resources/ind_007402-62-00-005\" target=\"_other\">http://srv.ktbl.de/data/psm/resources/ind_007402-62-00-005</a></td>\n",
       "<td class=val>1</td></tr><tr class=even><td class=val><a href=\"http://srv.ktbl.de/data/psm/resources/ind_008629-64-00-032\" target=\"_other\">http://srv.ktbl.de/data/psm/resources/ind_008629-64-00-032</a></td>\n",
       "<td class=val>0</td></tr><tr class=odd><td class=val><a href=\"http://srv.ktbl.de/data/psm/resources/ind_024560-79-00-018\" target=\"_other\">http://srv.ktbl.de/data/psm/resources/ind_024560-79-00-018</a></td>\n",
       "<td class=val>3</td></tr><tr class=even><td class=val><a href=\"http://srv.ktbl.de/data/psm/resources/ind_024780-60-05-002\" target=\"_other\">http://srv.ktbl.de/data/psm/resources/ind_024780-60-05-002</a></td>\n",
       "<td class=val>1</td></tr></table><div class=\"tinfo\">Total: 26941, Shown: 20</div></div>"
      ]
     },
     "metadata": {},
     "output_type": "display_data"
    }
   ],
   "source": [
    "# count water constraints on every indication\n",
    "\n",
    "prefix rdfs: <http://www.w3.org/2000/01/rdf-schema#>\n",
    "prefix psm: <http://srv.ktbl.de/data/psm/>\n",
    "\n",
    "SELECT  ?subject   (SUM(?category) as ?c_num)\n",
    "WHERE { \n",
    "?subject psm:constraint ?constraint.\n",
    "?constraint rdfs:label ?constraintlabel.\n",
    " \tBIND(IF(STRSTARTS(?constraintlabel, \"NW\"), 1, 0) as ?category)\n",
    "}\n",
    "Group By ?subject\n"
   ]
  },
  {
   "cell_type": "code",
   "execution_count": 27,
   "id": "6dda0177-7baa-46b1-afaa-0255728c3664",
   "metadata": {},
   "outputs": [
    {
     "data": {
      "text/html": [
       "<div class=\"krn-spql\"><table><tr class=hdr><th>indication</th>\n",
       "<th>Constraint</th></tr><tr class=odd><td class=val><a href=\"http://srv.ktbl.de/data/psm/resources/ind_006324-00-00-001\" target=\"_other\">http://srv.ktbl.de/data/psm/resources/ind_006324-00-00-001</a></td>\n",
       "<td class=val><a href=\"http://srv.ktbl.de/data/psm/resources/cons_NT155\" target=\"_other\">http://srv.ktbl.de/data/psm/resources/cons_NT155</a></td></tr><tr class=even><td class=val><a href=\"http://srv.ktbl.de/data/psm/resources/ind_006324-00-00-001\" target=\"_other\">http://srv.ktbl.de/data/psm/resources/ind_006324-00-00-001</a></td>\n",
       "<td class=val><a href=\"http://srv.ktbl.de/data/psm/resources/cons_NT155\" target=\"_other\">http://srv.ktbl.de/data/psm/resources/cons_NT155</a></td></tr><tr class=odd><td class=val><a href=\"http://srv.ktbl.de/data/psm/resources/ind_006924-00-00-001\" target=\"_other\">http://srv.ktbl.de/data/psm/resources/ind_006924-00-00-001</a></td>\n",
       "<td class=val><a href=\"http://srv.ktbl.de/data/psm/resources/cons_NT154\" target=\"_other\">http://srv.ktbl.de/data/psm/resources/cons_NT154</a></td></tr><tr class=even><td class=val><a href=\"http://srv.ktbl.de/data/psm/resources/ind_006924-00-00-001\" target=\"_other\">http://srv.ktbl.de/data/psm/resources/ind_006924-00-00-001</a></td>\n",
       "<td class=val><a href=\"http://srv.ktbl.de/data/psm/resources/cons_NT154\" target=\"_other\">http://srv.ktbl.de/data/psm/resources/cons_NT154</a></td></tr><tr class=odd><td class=val><a href=\"http://srv.ktbl.de/data/psm/resources/ind_007100-00-00-001\" target=\"_other\">http://srv.ktbl.de/data/psm/resources/ind_007100-00-00-001</a></td>\n",
       "<td class=val><a href=\"http://srv.ktbl.de/data/psm/resources/cons_NT155\" target=\"_other\">http://srv.ktbl.de/data/psm/resources/cons_NT155</a></td></tr><tr class=even><td class=val><a href=\"http://srv.ktbl.de/data/psm/resources/ind_007100-00-00-001\" target=\"_other\">http://srv.ktbl.de/data/psm/resources/ind_007100-00-00-001</a></td>\n",
       "<td class=val><a href=\"http://srv.ktbl.de/data/psm/resources/cons_NT155\" target=\"_other\">http://srv.ktbl.de/data/psm/resources/cons_NT155</a></td></tr><tr class=odd><td class=val><a href=\"http://srv.ktbl.de/data/psm/resources/ind_007232-00-00-001\" target=\"_other\">http://srv.ktbl.de/data/psm/resources/ind_007232-00-00-001</a></td>\n",
       "<td class=val><a href=\"http://srv.ktbl.de/data/psm/resources/cons_NT155\" target=\"_other\">http://srv.ktbl.de/data/psm/resources/cons_NT155</a></td></tr><tr class=even><td class=val><a href=\"http://srv.ktbl.de/data/psm/resources/ind_007232-00-00-001\" target=\"_other\">http://srv.ktbl.de/data/psm/resources/ind_007232-00-00-001</a></td>\n",
       "<td class=val><a href=\"http://srv.ktbl.de/data/psm/resources/cons_NT155\" target=\"_other\">http://srv.ktbl.de/data/psm/resources/cons_NT155</a></td></tr><tr class=odd><td class=val><a href=\"http://srv.ktbl.de/data/psm/resources/ind_007777-00-00-001\" target=\"_other\">http://srv.ktbl.de/data/psm/resources/ind_007777-00-00-001</a></td>\n",
       "<td class=val><a href=\"http://srv.ktbl.de/data/psm/resources/cons_NT155\" target=\"_other\">http://srv.ktbl.de/data/psm/resources/cons_NT155</a></td></tr><tr class=even><td class=val><a href=\"http://srv.ktbl.de/data/psm/resources/ind_007777-00-00-001\" target=\"_other\">http://srv.ktbl.de/data/psm/resources/ind_007777-00-00-001</a></td>\n",
       "<td class=val><a href=\"http://srv.ktbl.de/data/psm/resources/cons_NT155\" target=\"_other\">http://srv.ktbl.de/data/psm/resources/cons_NT155</a></td></tr><tr class=odd><td class=val><a href=\"http://srv.ktbl.de/data/psm/resources/ind_007777-61-00-001\" target=\"_other\">http://srv.ktbl.de/data/psm/resources/ind_007777-61-00-001</a></td>\n",
       "<td class=val><a href=\"http://srv.ktbl.de/data/psm/resources/cons_NT155\" target=\"_other\">http://srv.ktbl.de/data/psm/resources/cons_NT155</a></td></tr><tr class=even><td class=val><a href=\"http://srv.ktbl.de/data/psm/resources/ind_007777-61-00-001\" target=\"_other\">http://srv.ktbl.de/data/psm/resources/ind_007777-61-00-001</a></td>\n",
       "<td class=val><a href=\"http://srv.ktbl.de/data/psm/resources/cons_NT155\" target=\"_other\">http://srv.ktbl.de/data/psm/resources/cons_NT155</a></td></tr><tr class=odd><td class=val><a href=\"http://srv.ktbl.de/data/psm/resources/ind_007777-62-00-001\" target=\"_other\">http://srv.ktbl.de/data/psm/resources/ind_007777-62-00-001</a></td>\n",
       "<td class=val><a href=\"http://srv.ktbl.de/data/psm/resources/cons_NT155\" target=\"_other\">http://srv.ktbl.de/data/psm/resources/cons_NT155</a></td></tr><tr class=even><td class=val><a href=\"http://srv.ktbl.de/data/psm/resources/ind_007777-62-00-001\" target=\"_other\">http://srv.ktbl.de/data/psm/resources/ind_007777-62-00-001</a></td>\n",
       "<td class=val><a href=\"http://srv.ktbl.de/data/psm/resources/cons_NT155\" target=\"_other\">http://srv.ktbl.de/data/psm/resources/cons_NT155</a></td></tr><tr class=odd><td class=val><a href=\"http://srv.ktbl.de/data/psm/resources/ind_007824-00-00-001\" target=\"_other\">http://srv.ktbl.de/data/psm/resources/ind_007824-00-00-001</a></td>\n",
       "<td class=val><a href=\"http://srv.ktbl.de/data/psm/resources/cons_NT154\" target=\"_other\">http://srv.ktbl.de/data/psm/resources/cons_NT154</a></td></tr><tr class=even><td class=val><a href=\"http://srv.ktbl.de/data/psm/resources/ind_007824-00-00-001\" target=\"_other\">http://srv.ktbl.de/data/psm/resources/ind_007824-00-00-001</a></td>\n",
       "<td class=val><a href=\"http://srv.ktbl.de/data/psm/resources/cons_NT154\" target=\"_other\">http://srv.ktbl.de/data/psm/resources/cons_NT154</a></td></tr><tr class=odd><td class=val><a href=\"http://srv.ktbl.de/data/psm/resources/ind_008045-00-00-001\" target=\"_other\">http://srv.ktbl.de/data/psm/resources/ind_008045-00-00-001</a></td>\n",
       "<td class=val><a href=\"http://srv.ktbl.de/data/psm/resources/cons_NT154\" target=\"_other\">http://srv.ktbl.de/data/psm/resources/cons_NT154</a></td></tr><tr class=even><td class=val><a href=\"http://srv.ktbl.de/data/psm/resources/ind_008045-00-00-001\" target=\"_other\">http://srv.ktbl.de/data/psm/resources/ind_008045-00-00-001</a></td>\n",
       "<td class=val><a href=\"http://srv.ktbl.de/data/psm/resources/cons_NT154\" target=\"_other\">http://srv.ktbl.de/data/psm/resources/cons_NT154</a></td></tr><tr class=odd><td class=val><a href=\"http://srv.ktbl.de/data/psm/resources/ind_008046-00-00-001\" target=\"_other\">http://srv.ktbl.de/data/psm/resources/ind_008046-00-00-001</a></td>\n",
       "<td class=val><a href=\"http://srv.ktbl.de/data/psm/resources/cons_NT154\" target=\"_other\">http://srv.ktbl.de/data/psm/resources/cons_NT154</a></td></tr><tr class=even><td class=val><a href=\"http://srv.ktbl.de/data/psm/resources/ind_008046-00-00-001\" target=\"_other\">http://srv.ktbl.de/data/psm/resources/ind_008046-00-00-001</a></td>\n",
       "<td class=val><a href=\"http://srv.ktbl.de/data/psm/resources/cons_NT154\" target=\"_other\">http://srv.ktbl.de/data/psm/resources/cons_NT154</a></td></tr></table><div class=\"tinfo\">Total: 54, Shown: 20</div></div>"
      ]
     },
     "metadata": {},
     "output_type": "display_data"
    }
   ],
   "source": [
    "# find indications with additional information for constraints with Link to legal text\n",
    "# search for psm:exception (Exception is only used for urban constraints)\n",
    "\n",
    "prefix rdfs: <http://www.w3.org/2000/01/rdf-schema#>\n",
    "prefix psm: <http://srv.ktbl.de/data/psm/>\n",
    "SELECT ?indication ?Constraint\n",
    "WHERE {\n",
    "          ?indication psm:considerBufferConstraint/psm:bufferCategory ?bufferConstraint.\n",
    "          \n",
    "            ?bufferConstraint psm:exception ?Constraint.\n",
    "}\n"
   ]
  },
  {
   "cell_type": "code",
   "execution_count": 28,
   "id": "ca5a55bc-e101-4885-840d-5d3443a5b170",
   "metadata": {},
   "outputs": [
    {
     "data": {
      "text/html": [
       "<div class=\"krn-spql\"><table><tr class=hdr><th>Indication</th>\n",
       "<th>buffer</th>\n",
       "<th>drift</th></tr><tr class=odd><td class=val><a href=\"http://srv.ktbl.de/data/psm/resources/ind_004634-00-00-001\" target=\"_other\">http://srv.ktbl.de/data/psm/resources/ind_004634-00-00-001</a></td>\n",
       "<td class=val>10</td>\n",
       "<td class=val>90</td></tr><tr class=even><td class=val><a href=\"http://srv.ktbl.de/data/psm/resources/ind_004634-00-00-001\" target=\"_other\">http://srv.ktbl.de/data/psm/resources/ind_004634-00-00-001</a></td>\n",
       "<td class=val>10</td>\n",
       "<td class=val>90</td></tr><tr class=odd><td class=val><a href=\"http://srv.ktbl.de/data/psm/resources/ind_004634-00-00-002\" target=\"_other\">http://srv.ktbl.de/data/psm/resources/ind_004634-00-00-002</a></td>\n",
       "<td class=val>10</td>\n",
       "<td class=val>90</td></tr><tr class=even><td class=val><a href=\"http://srv.ktbl.de/data/psm/resources/ind_004634-00-00-002\" target=\"_other\">http://srv.ktbl.de/data/psm/resources/ind_004634-00-00-002</a></td>\n",
       "<td class=val>10</td>\n",
       "<td class=val>90</td></tr><tr class=odd><td class=val><a href=\"http://srv.ktbl.de/data/psm/resources/ind_005017-00-00-001\" target=\"_other\">http://srv.ktbl.de/data/psm/resources/ind_005017-00-00-001</a></td>\n",
       "<td class=val>5</td>\n",
       "<td class=val>90</td></tr><tr class=even><td class=val><a href=\"http://srv.ktbl.de/data/psm/resources/ind_005017-00-00-001\" target=\"_other\">http://srv.ktbl.de/data/psm/resources/ind_005017-00-00-001</a></td>\n",
       "<td class=val>5</td>\n",
       "<td class=val>90</td></tr><tr class=odd><td class=val><a href=\"http://srv.ktbl.de/data/psm/resources/ind_005017-00-02-001\" target=\"_other\">http://srv.ktbl.de/data/psm/resources/ind_005017-00-02-001</a></td>\n",
       "<td class=val>5</td>\n",
       "<td class=val>90</td></tr><tr class=even><td class=val><a href=\"http://srv.ktbl.de/data/psm/resources/ind_005017-00-02-001\" target=\"_other\">http://srv.ktbl.de/data/psm/resources/ind_005017-00-02-001</a></td>\n",
       "<td class=val>5</td>\n",
       "<td class=val>90</td></tr><tr class=odd><td class=val><a href=\"http://srv.ktbl.de/data/psm/resources/ind_005017-00-02-002\" target=\"_other\">http://srv.ktbl.de/data/psm/resources/ind_005017-00-02-002</a></td>\n",
       "<td class=val>5</td>\n",
       "<td class=val>90</td></tr><tr class=even><td class=val><a href=\"http://srv.ktbl.de/data/psm/resources/ind_005017-00-02-002\" target=\"_other\">http://srv.ktbl.de/data/psm/resources/ind_005017-00-02-002</a></td>\n",
       "<td class=val>5</td>\n",
       "<td class=val>90</td></tr><tr class=odd><td class=val><a href=\"http://srv.ktbl.de/data/psm/resources/ind_005017-00-02-003\" target=\"_other\">http://srv.ktbl.de/data/psm/resources/ind_005017-00-02-003</a></td>\n",
       "<td class=val>5</td>\n",
       "<td class=val>90</td></tr><tr class=even><td class=val><a href=\"http://srv.ktbl.de/data/psm/resources/ind_005017-00-02-003\" target=\"_other\">http://srv.ktbl.de/data/psm/resources/ind_005017-00-02-003</a></td>\n",
       "<td class=val>5</td>\n",
       "<td class=val>90</td></tr><tr class=odd><td class=val><a href=\"http://srv.ktbl.de/data/psm/resources/ind_005190-00-00-002\" target=\"_other\">http://srv.ktbl.de/data/psm/resources/ind_005190-00-00-002</a></td>\n",
       "<td class=val>20</td>\n",
       "<td class=val>90</td></tr><tr class=even><td class=val><a href=\"http://srv.ktbl.de/data/psm/resources/ind_005190-00-00-002\" target=\"_other\">http://srv.ktbl.de/data/psm/resources/ind_005190-00-00-002</a></td>\n",
       "<td class=val>20</td>\n",
       "<td class=val>90</td></tr><tr class=odd><td class=val><a href=\"http://srv.ktbl.de/data/psm/resources/ind_005190-00-00-004\" target=\"_other\">http://srv.ktbl.de/data/psm/resources/ind_005190-00-00-004</a></td>\n",
       "<td class=val>20</td>\n",
       "<td class=val>90</td></tr><tr class=even><td class=val><a href=\"http://srv.ktbl.de/data/psm/resources/ind_005190-00-00-004\" target=\"_other\">http://srv.ktbl.de/data/psm/resources/ind_005190-00-00-004</a></td>\n",
       "<td class=val>20</td>\n",
       "<td class=val>90</td></tr><tr class=odd><td class=val><a href=\"http://srv.ktbl.de/data/psm/resources/ind_005190-00-00-006\" target=\"_other\">http://srv.ktbl.de/data/psm/resources/ind_005190-00-00-006</a></td>\n",
       "<td class=val>20</td>\n",
       "<td class=val>90</td></tr><tr class=even><td class=val><a href=\"http://srv.ktbl.de/data/psm/resources/ind_005190-00-00-006\" target=\"_other\">http://srv.ktbl.de/data/psm/resources/ind_005190-00-00-006</a></td>\n",
       "<td class=val>20</td>\n",
       "<td class=val>90</td></tr><tr class=odd><td class=val><a href=\"http://srv.ktbl.de/data/psm/resources/ind_005190-00-00-008\" target=\"_other\">http://srv.ktbl.de/data/psm/resources/ind_005190-00-00-008</a></td>\n",
       "<td class=val>20</td>\n",
       "<td class=val>90</td></tr><tr class=even><td class=val><a href=\"http://srv.ktbl.de/data/psm/resources/ind_005190-00-00-008\" target=\"_other\">http://srv.ktbl.de/data/psm/resources/ind_005190-00-00-008</a></td>\n",
       "<td class=val>20</td>\n",
       "<td class=val>90</td></tr></table><div class=\"tinfo\">Total: 10444, Shown: 20</div></div>"
      ]
     },
     "metadata": {},
     "output_type": "display_data"
    }
   ],
   "source": [
    "# get all indications with drift reduction necessity of 90%\n",
    "\n",
    "PREFIX qudt: <http://qudt.org/schema/qudt/>\n",
    "prefix rdfs: <http://www.w3.org/2000/01/rdf-schema#>\n",
    "prefix psm: <http://srv.ktbl.de/data/psm/>\n",
    "prefix rdf: <http://www.w3.org/1999/02/22-rdf-syntax-ns#>\n",
    "\n",
    "SELECT ?Indication ?buffer ?drift\n",
    "WHERE {\n",
    "?Indication rdf:type psm:Indication;                                  \n",
    "      psm:considerBufferConstraint/psm:bufferCategory/psm:bufferConstraint    ?Constraint.\n",
    "  \n",
    "\t?Constraint psm:buffer/qudt:value ?buffer;\n",
    "             \tpsm:drift/qudt:value ?drift.\n",
    "  \n",
    "FILTER(?drift =90)\n",
    "FILTER(?buffer != \"*\")\n",
    "}\n",
    "\n"
   ]
  },
  {
   "cell_type": "code",
   "execution_count": 29,
   "id": "270cb12b-495b-4626-a8e8-1ceb1a7283a0",
   "metadata": {},
   "outputs": [
    {
     "data": {
      "text/html": [
       "<div class=\"krn-spql\"><table><tr class=hdr><th>agent</th>\n",
       "<th>authEnd</th></tr><tr class=odd><td class=val><a href=\"http://srv.ktbl.de/data/psm/resources/age_005878-00\" target=\"_other\">http://srv.ktbl.de/data/psm/resources/age_005878-00</a></td>\n",
       "<td class=val></td></tr><tr class=even><td class=val><a href=\"http://srv.ktbl.de/data/psm/resources/age_006284-00\" target=\"_other\">http://srv.ktbl.de/data/psm/resources/age_006284-00</a></td>\n",
       "<td class=val></td></tr><tr class=odd><td class=val><a href=\"http://srv.ktbl.de/data/psm/resources/age_006324-00\" target=\"_other\">http://srv.ktbl.de/data/psm/resources/age_006324-00</a></td>\n",
       "<td class=val></td></tr><tr class=even><td class=val><a href=\"http://srv.ktbl.de/data/psm/resources/age_006766-00\" target=\"_other\">http://srv.ktbl.de/data/psm/resources/age_006766-00</a></td>\n",
       "<td class=val></td></tr><tr class=odd><td class=val><a href=\"http://srv.ktbl.de/data/psm/resources/age_006766-60\" target=\"_other\">http://srv.ktbl.de/data/psm/resources/age_006766-60</a></td>\n",
       "<td class=val></td></tr><tr class=even><td class=val><a href=\"http://srv.ktbl.de/data/psm/resources/age_007777-00\" target=\"_other\">http://srv.ktbl.de/data/psm/resources/age_007777-00</a></td>\n",
       "<td class=val></td></tr><tr class=odd><td class=val><a href=\"http://srv.ktbl.de/data/psm/resources/age_007777-61\" target=\"_other\">http://srv.ktbl.de/data/psm/resources/age_007777-61</a></td>\n",
       "<td class=val></td></tr><tr class=even><td class=val><a href=\"http://srv.ktbl.de/data/psm/resources/age_007777-62\" target=\"_other\">http://srv.ktbl.de/data/psm/resources/age_007777-62</a></td>\n",
       "<td class=val></td></tr><tr class=odd><td class=val><a href=\"http://srv.ktbl.de/data/psm/resources/age_007824-00\" target=\"_other\">http://srv.ktbl.de/data/psm/resources/age_007824-00</a></td>\n",
       "<td class=val></td></tr><tr class=even><td class=val><a href=\"http://srv.ktbl.de/data/psm/resources/age_008125-00\" target=\"_other\">http://srv.ktbl.de/data/psm/resources/age_008125-00</a></td>\n",
       "<td class=val></td></tr><tr class=odd><td class=val><a href=\"http://srv.ktbl.de/data/psm/resources/age_008125-60\" target=\"_other\">http://srv.ktbl.de/data/psm/resources/age_008125-60</a></td>\n",
       "<td class=val></td></tr><tr class=even><td class=val><a href=\"http://srv.ktbl.de/data/psm/resources/age_008181-00\" target=\"_other\">http://srv.ktbl.de/data/psm/resources/age_008181-00</a></td>\n",
       "<td class=val></td></tr><tr class=odd><td class=val><a href=\"http://srv.ktbl.de/data/psm/resources/age_008226-00\" target=\"_other\">http://srv.ktbl.de/data/psm/resources/age_008226-00</a></td>\n",
       "<td class=val></td></tr><tr class=even><td class=val><a href=\"http://srv.ktbl.de/data/psm/resources/age_008324-00\" target=\"_other\">http://srv.ktbl.de/data/psm/resources/age_008324-00</a></td>\n",
       "<td class=val></td></tr><tr class=odd><td class=val><a href=\"http://srv.ktbl.de/data/psm/resources/age_008362-00\" target=\"_other\">http://srv.ktbl.de/data/psm/resources/age_008362-00</a></td>\n",
       "<td class=val></td></tr><tr class=even><td class=val><a href=\"http://srv.ktbl.de/data/psm/resources/age_008362-60\" target=\"_other\">http://srv.ktbl.de/data/psm/resources/age_008362-60</a></td>\n",
       "<td class=val></td></tr><tr class=odd><td class=val><a href=\"http://srv.ktbl.de/data/psm/resources/age_008362-61\" target=\"_other\">http://srv.ktbl.de/data/psm/resources/age_008362-61</a></td>\n",
       "<td class=val></td></tr><tr class=even><td class=val><a href=\"http://srv.ktbl.de/data/psm/resources/age_008431-00\" target=\"_other\">http://srv.ktbl.de/data/psm/resources/age_008431-00</a></td>\n",
       "<td class=val></td></tr><tr class=odd><td class=val><a href=\"http://srv.ktbl.de/data/psm/resources/age_008485-00\" target=\"_other\">http://srv.ktbl.de/data/psm/resources/age_008485-00</a></td>\n",
       "<td class=val></td></tr><tr class=even><td class=val><a href=\"http://srv.ktbl.de/data/psm/resources/age_008485-60\" target=\"_other\">http://srv.ktbl.de/data/psm/resources/age_008485-60</a></td>\n",
       "<td class=val></td></tr></table><div class=\"tinfo\">Total: 90, Shown: 20</div></div>"
      ]
     },
     "metadata": {},
     "output_type": "display_data"
    }
   ],
   "source": [
    "# !!psm:geringesRisiko fehlerhaft!! all agents with their information \n",
    "\n",
    "prefix rdfs: <http://www.w3.org/2000/01/rdf-schema#>\n",
    "prefix psm: <http://srv.ktbl.de/data/psm/>\n",
    "prefix rdf: <http://www.w3.org/1999/02/22-rdf-syntax-ns#>\n",
    "prefix xsd:     <http://www.w3.org/2001/XMLSchema#> \n",
    "\n",
    "SELECT ?agent ?authEnd\n",
    "WHERE {\n",
    "          \t?agent a psm:Agent;\n",
    "                psm:authorizationEnd \"2023-10-30T23:00:00Z\"^^xsd:dateTime.\n",
    " }\n"
   ]
  },
  {
   "cell_type": "code",
   "execution_count": 30,
   "id": "10da4225-644f-4e1b-9122-f50613f40caf",
   "metadata": {},
   "outputs": [
    {
     "data": {
      "text/html": [
       "<div class=\"krn-spql\"><table><tr class=hdr><th>label</th>\n",
       "<th>drift</th>\n",
       "<th>buffer</th>\n",
       "<th>inKVZvar</th></tr><tr class=odd><td class=val>less</td>\n",
       "<td class=val>50</td>\n",
       "<td class=val>20</td>\n",
       "<td class=val>true</td></tr><tr class=even><td class=val>more</td>\n",
       "<td class=val>50</td>\n",
       "<td class=val></td>\n",
       "<td class=val>false</td></tr><tr class=odd><td class=val></td>\n",
       "<td class=val></td>\n",
       "<td class=val></td>\n",
       "<td class=val></td></tr></table><div class=\"tinfo\">Total: 3, Shown: 3</div></div>"
      ]
     },
     "metadata": {},
     "output_type": "display_data"
    }
   ],
   "source": [
    "# vegetation constraints have additional information \"im Kleinstrukturenverzeichnis“, if inkvz=false, then a buffer is mandatory.\n",
    "\n",
    "PREFIX psm: <http://srv.ktbl.de/data/psm/>\n",
    "prefix psmr: <http://srv.ktbl.de/data/psm/resources/> \n",
    "PREFIX rdf: <http://www.w3.org/1999/02/22-rdf-syntax-ns#>\n",
    "PREFIX rdfs: <http://www.w3.org/2000/01/rdf-schema#>\n",
    "\n",
    "PREFIX qudt: <http://qudt.org/schema/qudt/>\n",
    "\n",
    "\n",
    "SELECT DISTINCT ?label ?drift ?buffer ?inKVZvar \n",
    "WHERE {\n",
    "  psmr:ind_024560-60-03-001 psm:considerBufferConstraint/psm:bufferCategory ?bufferCategory.\n",
    "  OPTIONAL{ ?bufferCategory rdf:type psm:VegetationConstraint.\n",
    "    \t\tBIND(?bufferCategory as ?vegetationBuffer).\n",
    "    \t\t?vegetationBuffer psm:bufferConstraint ?bufferKVZ.\n",
    "      \t\t\t?bufferKVZ psm:inKVZ ?inKVZvar;\n",
    "                            rdfs:label ?label.\n",
    "            OPTIONAL {?bufferKVZ   psm:drift/qudt:value ?drift.}\n",
    "           OPTIONAL {?bufferKVZ   psm:buffer/qudt:value ?buffer.}\n",
    "   #FILTER(?inKVZvar = \"true\")\n",
    "  }\t\n",
    "}\n"
   ]
  },
  {
   "cell_type": "code",
   "execution_count": 17,
   "id": "b284ee97-3386-45ff-951c-3e86d7def594",
   "metadata": {},
   "outputs": [
    {
     "data": {
      "text/html": [
       "<div class=\"krn-spql\"><div class=\"magic\">Request format: NONE</div><div class=\"magic\">Param set: resultformat = application/turtle</div><div class=\"magic\">HTTP header set: Accept = application/turtle,application/sparql-results+turtle</div></div>"
      ],
      "text/plain": [
       "Request format: NONE\n",
       "Param set: resultformat = application/turtle\n",
       "HTTP header set: Accept = application/turtle,application/sparql-results+turtle\n"
      ]
     },
     "metadata": {},
     "output_type": "display_data"
    }
   ],
   "source": [
    "%format none\n",
    "%qparam resultformat application/turtle\n",
    "%http_header Accept application/turtle,application/sparql-results+turtle"
   ]
  },
  {
   "cell_type": "code",
   "execution_count": 18,
   "id": "3fcd266b-3377-4003-bb7a-2320b6d7c472",
   "metadata": {
    "scrolled": true
   },
   "outputs": [
    {
     "data": {
      "text/plain": [
       "@prefix psm:  <http://srv.ktbl.de/data/psm/> .\n",
       "@prefix psmr: <http://srv.ktbl.de/data/psm/resources/> .\n",
       "@prefix qudt: <http://qudt.org/schema/qudt/psmr:age_006380-00> .\n",
       "@prefix rdf:  <http://www.w3.org/1999/02/22-rdf-syntax-ns#> .\n",
       "@prefix rdfs: <http://www.w3.org/2000/01/rdf-schema#> .\n",
       "\n",
       "psmr:ind_006380-00-01-002\n",
       "        rdf:type                   psm:Indication ;\n",
       "        rdfs:label                 \"006380-00/01-002\" ;\n",
       "        psm:agent                  psmr:age_006380-00 ;\n",
       "        psm:applicationTechnology  psmr:at_SXX ;\n",
       "        psm:applicationTime        psmr:at_NA ;\n",
       "        psm:appliedOnCrop          psmr:crop_ZEAMX ;\n",
       "        psm:appliedOnPest          psmr:pest_TTTDS ;\n",
       "        psm:constraint             psmr:cons_NW606 , psmr:cons_WH9161 , psmr:cons_WP775 , psmr:cons_NW605-1 , psmr:cons_NT103 , psmr:cons_NW706 , psmr:cons_WP734 ;\n",
       "        psm:fieldOfApplication     psmr:foa_A ;\n",
       "        psm:houseAndAllotment      \"N\" ;\n",
       "        psm:scopeOfApplication     psmr:soa_FX ;\n",
       "        psm:usableApplicationRate  [ rdf:type              psm:ApplicationRate ;\n",
       "                                     psm:amountOfAgent     [ rdf:type  psm:ApplicationRateAgent ;\n",
       "                                                             <http://qudt.org/schema/qudt/unit>\n",
       "                                                                     psmr:au_LH ;\n",
       "                                                             <http://qudt.org/schema/qudt/value>\n",
       "                                                                     \"2\"\n",
       "                                                           ] ;\n",
       "                                     psm:maxAmountOfWater  [ rdf:type  psm:ApplicationRateWater ;\n",
       "                                                             <http://qudt.org/schema/qudt/unit>\n",
       "                                                                     psmr:au_LH ;\n",
       "                                                             <http://qudt.org/schema/qudt/value>\n",
       "                                                                     \"400\"\n",
       "                                                           ] ;\n",
       "                                     psm:minAmountOfWater  [ rdf:type  psm:ApplicationRateWater ;\n",
       "                                                             <http://qudt.org/schema/qudt/unit>\n",
       "                                                                     psmr:au_LH ;\n",
       "                                                             <http://qudt.org/schema/qudt/value>\n",
       "                                                                     \"200\"\n",
       "                                                           ] ;\n",
       "                                     psm:sortingNumber     \"1\"\n",
       "                                   ] .\n"
      ]
     },
     "metadata": {},
     "output_type": "display_data"
    }
   ],
   "source": [
    "PREFIX rdfs: <http://www.w3.org/2000/01/rdf-schema#>\n",
    "PREFIX rdf: <http://www.w3.org/1999/02/22-rdf-syntax-ns#>\n",
    "PREFIX psm: <http://srv.ktbl.de/data/psm/>\n",
    "prefix psmr: <http://srv.ktbl.de/data/psm/resources/> \n",
    "PREFIX qudt: <http://qudt.org/schema/qudt/psmr:age_006380-00>\n",
    "\n",
    "DESCRIBE psmr:ind_006380-00-01-002"
   ]
  },
  {
   "cell_type": "code",
   "execution_count": 31,
   "id": "93a2410d-03f3-473b-a06c-83e4edb1f505",
   "metadata": {},
   "outputs": [
    {
     "data": {
      "text/html": [
       "<div class=\"krn-spql\"><div class=\"magic\">Request format: NONE</div><div class=\"magic\">Param set: resultformat = application/turtle</div><div class=\"magic\">HTTP header set: Accept = application/turtle,application/sparql-results+turtle</div></div>"
      ],
      "text/plain": [
       "Request format: NONE\n",
       "Param set: resultformat = application/turtle\n",
       "HTTP header set: Accept = application/turtle,application/sparql-results+turtle\n"
      ]
     },
     "metadata": {},
     "output_type": "display_data"
    }
   ],
   "source": [
    "%format none\n",
    "%qparam resultformat application/turtle\n",
    "%http_header Accept application/turtle,application/sparql-results+turtle"
   ]
  },
  {
   "cell_type": "code",
   "execution_count": 32,
   "id": "83c667c1-a4e5-4c5c-8d9f-045b1aa6d78c",
   "metadata": {},
   "outputs": [
    {
     "data": {
      "text/plain": [
       "@prefix psm:  <http://srv.ktbl.de/data/psm/> .\n",
       "@prefix psmr: <http://srv.ktbl.de/data/psm/resources/> .\n",
       "@prefix qudt: <http://qudt.org/schema/qudt/psmr:age_006380-00> .\n",
       "@prefix rdf:  <http://www.w3.org/1999/02/22-rdf-syntax-ns#> .\n",
       "@prefix rdfs: <http://www.w3.org/2000/01/rdf-schema#> .\n",
       "\n",
       "psmr:age_006380-00  rdf:type         psmr:form_SE , psm:Agent , psmr:scope_H ;\n",
       "        rdfs:label                   \"Spectrum Gold\" ;\n",
       "        psm:abverkaufsfrist          \"2025-06-30\"^^<http://www.w3.org/2001/XMLSchema#dateTime> ;\n",
       "        psm:activeIngredient         psmr:act_0988 , psmr:act_0316 ;\n",
       "        psm:authorizationEnd         \"2024-12-30T23:00:00Z\"^^<http://www.w3.org/2001/XMLSchema#dateTime> ;\n",
       "        psm:authorizationStart       \"2012-03-15T23:00:00Z\"^^<http://www.w3.org/2001/XMLSchema#dateTime> ;\n",
       "        psm:constraint               psmr:con_NW470 , psmr:con_NG362 ;\n",
       "        psm:contentActiveIngredient  psmr:coa_44 , psmr:coa_204 ;\n",
       "        psm:gefahrstoffverordnung    \"S 24\" , \"SP001\" , \"S 57\" , \"S 13\" , \"S 46\" , \"R 43\" , \"S 36/37\" , \"R 22\" , \"S 35\" , \"S 2\" , \"R 50/53\" , \"RA053\" ;\n",
       "        psm:geringesRisiko           \"\" ;\n",
       "        psm:ghsGefahrenhinweise      psmr:hin_H400 , psmr:hin_H410 , psmr:hin_H317 , psmr:hin_H302 , <http://srv.ktbl.de/data/psm/resources/hin_EUH%20208-0065> , <http://srv.ktbl.de/data/psm/resources/hin_EUH%20401> ;\n",
       "        psm:ghsGefahrensymbol        \"Ausrufezeichen (GHS07)\" , \"Umwelt (GHS09)\" ;\n",
       "        psm:ghsSignalworte           \"Achtung (S1)\" ;\n",
       "        psm:hinweise                 psmr:hin_WH952 , psmr:hin_NB6641 , psmr:hin_NN2001 ;\n",
       "        psm:resistenzgruppe          \"HRAC 15 (K3)\" , \"HRAC 5 (C1,C2)\" ;\n",
       "        psm:wirkstoffgruppe          \"Triazine\" , \"α-Chloroacetamide\" ;\n",
       "        psm:zulassungsende_Grund     \"\" ;\n",
       "        psm:zulassungsinhaber        \"BASF SE\" .\n"
      ]
     },
     "metadata": {},
     "output_type": "display_data"
    }
   ],
   "source": [
    "PREFIX rdfs: <http://www.w3.org/2000/01/rdf-schema#>\n",
    "PREFIX rdf: <http://www.w3.org/1999/02/22-rdf-syntax-ns#>\n",
    "PREFIX psm: <http://srv.ktbl.de/data/psm/>\n",
    "prefix psmr: <http://srv.ktbl.de/data/psm/resources/> \n",
    "PREFIX qudt: <http://qudt.org/schema/qudt/psmr:age_006380-00>\n",
    "\n",
    "DESCRIBE psmr:age_006380-00"
   ]
  },
  {
   "cell_type": "code",
   "execution_count": 26,
   "id": "7c2b6276-da12-4fd4-834e-1d5069b2bc7a",
   "metadata": {},
   "outputs": [
    {
     "data": {
      "text/html": [
       "<div class=\"krn-spql\"><table><tr class=hdr><th>cropLabel</th>\n",
       "<th>pestLabel</th>\n",
       "<th>indication</th>\n",
       "<th>buffer</th>\n",
       "<th>drift</th>\n",
       "<th>slope</th></tr><tr class=odd><td class=val>frische Kr�uter</td>\n",
       "<td class=val>Blattl�use</td>\n",
       "<td class=val><a href=\"http://srv.ktbl.de/data/psm/resources/ind_00A122-00-00-040\" target=\"_other\">http://srv.ktbl.de/data/psm/resources/ind_00A122-00-00-040</a></td>\n",
       "<td class=val>5</td>\n",
       "<td class=val>50</td>\n",
       "<td class=val></td></tr><tr class=even><td class=val>frische Kr�uter</td>\n",
       "<td class=val>Blattl�use</td>\n",
       "<td class=val><a href=\"http://srv.ktbl.de/data/psm/resources/ind_00A122-00-00-040\" target=\"_other\">http://srv.ktbl.de/data/psm/resources/ind_00A122-00-00-040</a></td>\n",
       "<td class=val>*</td>\n",
       "<td class=val>50</td>\n",
       "<td class=val></td></tr><tr class=odd><td class=val>frische Kr�uter</td>\n",
       "<td class=val>Blattl�use</td>\n",
       "<td class=val><a href=\"http://srv.ktbl.de/data/psm/resources/ind_00A122-00-00-040\" target=\"_other\">http://srv.ktbl.de/data/psm/resources/ind_00A122-00-00-040</a></td>\n",
       "<td class=val>5</td>\n",
       "<td class=val>75</td>\n",
       "<td class=val></td></tr><tr class=even><td class=val>frische Kr�uter</td>\n",
       "<td class=val>Blattl�use</td>\n",
       "<td class=val><a href=\"http://srv.ktbl.de/data/psm/resources/ind_00A122-00-00-040\" target=\"_other\">http://srv.ktbl.de/data/psm/resources/ind_00A122-00-00-040</a></td>\n",
       "<td class=val>*</td>\n",
       "<td class=val>75</td>\n",
       "<td class=val></td></tr><tr class=odd><td class=val>frische Kr�uter</td>\n",
       "<td class=val>Blattl�use</td>\n",
       "<td class=val><a href=\"http://srv.ktbl.de/data/psm/resources/ind_00A122-00-00-040\" target=\"_other\">http://srv.ktbl.de/data/psm/resources/ind_00A122-00-00-040</a></td>\n",
       "<td class=val>5</td>\n",
       "<td class=val>90</td>\n",
       "<td class=val></td></tr><tr class=even><td class=val>frische Kr�uter</td>\n",
       "<td class=val>Blattl�use</td>\n",
       "<td class=val><a href=\"http://srv.ktbl.de/data/psm/resources/ind_00A122-00-00-040\" target=\"_other\">http://srv.ktbl.de/data/psm/resources/ind_00A122-00-00-040</a></td>\n",
       "<td class=val>*</td>\n",
       "<td class=val>90</td>\n",
       "<td class=val></td></tr><tr class=odd><td class=val>frische Kr�uter</td>\n",
       "<td class=val>Blattl�use</td>\n",
       "<td class=val><a href=\"http://srv.ktbl.de/data/psm/resources/ind_00A122-00-00-040\" target=\"_other\">http://srv.ktbl.de/data/psm/resources/ind_00A122-00-00-040</a></td>\n",
       "<td class=val>5</td>\n",
       "<td class=val></td>\n",
       "<td class=val></td></tr><tr class=even><td class=val>frische Kr�uter</td>\n",
       "<td class=val>Blattl�use</td>\n",
       "<td class=val><a href=\"http://srv.ktbl.de/data/psm/resources/ind_00A122-00-00-040\" target=\"_other\">http://srv.ktbl.de/data/psm/resources/ind_00A122-00-00-040</a></td>\n",
       "<td class=val>10</td>\n",
       "<td class=val></td>\n",
       "<td class=val>2</td></tr><tr class=odd><td class=val>frische Kr�uter</td>\n",
       "<td class=val>Blattl�use</td>\n",
       "<td class=val><a href=\"http://srv.ktbl.de/data/psm/resources/ind_00A122-60-00-040\" target=\"_other\">http://srv.ktbl.de/data/psm/resources/ind_00A122-60-00-040</a></td>\n",
       "<td class=val>5</td>\n",
       "<td class=val>50</td>\n",
       "<td class=val></td></tr><tr class=even><td class=val>frische Kr�uter</td>\n",
       "<td class=val>Blattl�use</td>\n",
       "<td class=val><a href=\"http://srv.ktbl.de/data/psm/resources/ind_00A122-60-00-040\" target=\"_other\">http://srv.ktbl.de/data/psm/resources/ind_00A122-60-00-040</a></td>\n",
       "<td class=val>*</td>\n",
       "<td class=val>50</td>\n",
       "<td class=val></td></tr><tr class=odd><td class=val>frische Kr�uter</td>\n",
       "<td class=val>Blattl�use</td>\n",
       "<td class=val><a href=\"http://srv.ktbl.de/data/psm/resources/ind_00A122-60-00-040\" target=\"_other\">http://srv.ktbl.de/data/psm/resources/ind_00A122-60-00-040</a></td>\n",
       "<td class=val>5</td>\n",
       "<td class=val>75</td>\n",
       "<td class=val></td></tr><tr class=even><td class=val>frische Kr�uter</td>\n",
       "<td class=val>Blattl�use</td>\n",
       "<td class=val><a href=\"http://srv.ktbl.de/data/psm/resources/ind_00A122-60-00-040\" target=\"_other\">http://srv.ktbl.de/data/psm/resources/ind_00A122-60-00-040</a></td>\n",
       "<td class=val>*</td>\n",
       "<td class=val>75</td>\n",
       "<td class=val></td></tr><tr class=odd><td class=val>frische Kr�uter</td>\n",
       "<td class=val>Blattl�use</td>\n",
       "<td class=val><a href=\"http://srv.ktbl.de/data/psm/resources/ind_00A122-60-00-040\" target=\"_other\">http://srv.ktbl.de/data/psm/resources/ind_00A122-60-00-040</a></td>\n",
       "<td class=val>5</td>\n",
       "<td class=val>90</td>\n",
       "<td class=val></td></tr><tr class=even><td class=val>frische Kr�uter</td>\n",
       "<td class=val>Blattl�use</td>\n",
       "<td class=val><a href=\"http://srv.ktbl.de/data/psm/resources/ind_00A122-60-00-040\" target=\"_other\">http://srv.ktbl.de/data/psm/resources/ind_00A122-60-00-040</a></td>\n",
       "<td class=val>*</td>\n",
       "<td class=val>90</td>\n",
       "<td class=val></td></tr><tr class=odd><td class=val>frische Kr�uter</td>\n",
       "<td class=val>Blattl�use</td>\n",
       "<td class=val><a href=\"http://srv.ktbl.de/data/psm/resources/ind_00A122-60-00-040\" target=\"_other\">http://srv.ktbl.de/data/psm/resources/ind_00A122-60-00-040</a></td>\n",
       "<td class=val>5</td>\n",
       "<td class=val></td>\n",
       "<td class=val></td></tr><tr class=even><td class=val>frische Kr�uter</td>\n",
       "<td class=val>Blattl�use</td>\n",
       "<td class=val><a href=\"http://srv.ktbl.de/data/psm/resources/ind_00A122-60-00-040\" target=\"_other\">http://srv.ktbl.de/data/psm/resources/ind_00A122-60-00-040</a></td>\n",
       "<td class=val>10</td>\n",
       "<td class=val></td>\n",
       "<td class=val>2</td></tr></table><div class=\"tinfo\">Total: 16, Shown: 16</div></div>"
      ]
     },
     "metadata": {},
     "output_type": "display_data"
    }
   ],
   "source": [
    "PREFIX rdfs: <http://www.w3.org/2000/01/rdf-schema#>\n",
    "PREFIX rdf: <http://www.w3.org/1999/02/22-rdf-syntax-ns#>\n",
    "PREFIX psm: <http://srv.ktbl.de/data/psm/>\n",
    "prefix psmr: <http://srv.ktbl.de/data/psm/resources/> \n",
    "PREFIX qudt: <http://qudt.org/schema/qudt/>\n",
    "\n",
    "\n",
    "SELECT DISTINCT ?cropLabel ?pestLabel ?indication ?buffer ?drift ?slope\n",
    "WHERE{\n",
    "  \tpsmr:crop_NNNKF rdfs:label ?cropLabel .\n",
    "  \tpsmr:pest_APXXSP rdfs:label ?pestLabel.\n",
    "  \t?indication psm:appliedOnCrop psmr:crop_NNNKF;\n",
    "  \t\t\t\tpsm:appliedOnPest psmr:pest_APXXSP;\n",
    "  \t\t\t    psm:considerBufferConstraint/psm:bufferCategory ?bufferConstraint.\n",
    "  \t?bufferConstraint rdf:type psm:WaterConstraint.\n",
    "    BIND (?bufferConstraint as ?waterConstraint).\n",
    "    OPTIONAL{?waterConstraint psm:bufferConstraint/psm:drift/qudt:value ?drift.}\n",
    "    OPTIONAL{?waterConstraint psm:bufferConstraint/psm:slope/qudt:value ?slope.}\n",
    "  \tOPTIONAL{  ?waterConstraint psm:bufferConstraint/psm:buffer/qudt:value ?buffer.}\n",
    "\n",
    "  FILTER(lang(?cropLabel)=\"de\")\n",
    "    FILTER(lang(?pestLabel)=\"de\")\n",
    "\n",
    "}\n"
   ]
  },
  {
   "cell_type": "code",
   "execution_count": 33,
   "id": "118743ec-1d43-4892-b4d6-9ca6c8a49b83",
   "metadata": {},
   "outputs": [
    {
     "data": {
      "text/plain": [
       "@prefix psm:  <http://srv.ktbl.de/data/psm/> .\n",
       "@prefix psmr: <http://srv.ktbl.de/data/psm/resources/> .\n",
       "@prefix qudt: <http://qudt.org/schema/qudt/> .\n",
       "@prefix rdf:  <http://www.w3.org/1999/02/22-rdf-syntax-ns#> .\n",
       "@prefix rdfs: <http://www.w3.org/2000/01/rdf-schema#> .\n",
       "\n",
       "[ rdfs:label            psm:WaterConstraint ;\n",
       "  psm:bufferConstraint  [ psm:buffer  \"*\"^^<http://www.w3.org/2001/XMLSchema#integer> ;\n",
       "                          psm:drift   90\n",
       "                        ] ;\n",
       "  psm:bufferConstraint  [ psm:buffer  5 ;\n",
       "                          psm:drift   75\n",
       "                        ] ;\n",
       "  psm:bufferConstraint  [ psm:buffer  5 ;\n",
       "                          psm:drift   50\n",
       "                        ]\n",
       "] .\n",
       "\n",
       "[ rdfs:label            psm:WaterConstraint ;\n",
       "  psm:bufferConstraint  [ psm:buffer  20 ;\n",
       "                          psm:slope   2\n",
       "                        ]\n",
       "] .\n",
       "\n",
       "[ rdfs:label            psm:WaterConstraint ;\n",
       "  psm:bufferConstraint  [ psm:buffer  10 ]\n",
       "] .\n",
       "\n",
       "[ rdfs:label            psm:WaterConstraint ;\n",
       "  psm:bufferConstraint  [ psm:buffer  \"*\"^^<http://www.w3.org/2001/XMLSchema#integer> ;\n",
       "                          psm:drift   90\n",
       "                        ] ;\n",
       "  psm:bufferConstraint  [ psm:buffer  5 ;\n",
       "                          psm:drift   75\n",
       "                        ] ;\n",
       "  psm:bufferConstraint  [ psm:buffer  5 ;\n",
       "                          psm:drift   50\n",
       "                        ]\n",
       "] .\n",
       "\n",
       "[ rdfs:label            psm:WaterConstraint ;\n",
       "  psm:bufferConstraint  [ psm:buffer  10 ]\n",
       "] .\n",
       "\n",
       "[ rdfs:label            psm:VegetationConstraint ;\n",
       "  psm:bufferConstraint  [ psm:drift  90 ;\n",
       "                          psm:inKVZ  \"false\"\n",
       "                        ] ;\n",
       "  psm:bufferConstraint  [ psm:buffer  20 ;\n",
       "                          psm:drift   90 ;\n",
       "                          psm:inKVZ   \"true\"\n",
       "                        ]\n",
       "] .\n",
       "\n",
       "[ rdfs:label            psm:VegetationConstraint ;\n",
       "  psm:bufferConstraint  [ psm:drift  90 ;\n",
       "                          psm:inKVZ  \"false\"\n",
       "                        ] ;\n",
       "  psm:bufferConstraint  [ psm:buffer  20 ;\n",
       "                          psm:drift   90 ;\n",
       "                          psm:inKVZ   \"true\"\n",
       "                        ]\n",
       "] .\n",
       "\n",
       "[ rdfs:label            psm:WaterConstraint ;\n",
       "  psm:bufferConstraint  [ psm:buffer  20 ;\n",
       "                          psm:slope   2\n",
       "                        ]\n",
       "] .\n"
      ]
     },
     "metadata": {},
     "output_type": "display_data"
    }
   ],
   "source": [
    "PREFIX rdfs: <http://www.w3.org/2000/01/rdf-schema#>\n",
    "prefix rdf: <http://www.w3.org/1999/02/22-rdf-syntax-ns#>\n",
    "prefix psm: <http://srv.ktbl.de/data/psm/>\n",
    "prefix psmr: <http://srv.ktbl.de/data/psm/resources/> \n",
    "PREFIX qudt: <http://qudt.org/schema/qudt/>\n",
    "\n",
    "CONSTRUCT { \n",
    "\t?object psm:bufferConstraint ?o2;\n",
    "          rdfs:label ?p2.\n",
    "  ?o2 psm:drift ?drift.\n",
    "  ?o2 psm:inKVZ ?inkvz.\n",
    " ?o2 psm:buffer ?buffer.\n",
    "       ?o2 psm:mixed ?mixed.\n",
    "    ?o2 psm:slope ?slope.\n",
    "}\n",
    "\n",
    "WHERE {psmr:ind_006380-00-01-002 a psm:Indication;\n",
    "        \trdfs:label ?label;\n",
    "psm:considerBufferConstraint ?bufferasd.\n",
    "?bufferasd psm:bufferCategory ?object.\n",
    "?object psm:bufferConstraint ?o2;\n",
    "          rdf:type ?p2.\n",
    " \tOPTIONAL{?o2 psm:drift/qudt:value ?drift.}\n",
    " \tOPTIONAL{?o2 psm:inKVZ ?inkvz.}\n",
    " \tOPTIONAL{?o2 psm:buffer/qudt:value ?buffer.}\n",
    "\t   OPTIONAL{?o2 psm:slope/qudt:value ?slope.}\n",
    "   OPTIONAL{?o2 psm:mixed ?mixed.} \t\n",
    "\n",
    "}\n"
   ]
  },
  {
   "cell_type": "code",
   "execution_count": null,
   "id": "10577fc5-2dd9-4da9-b9d1-5533140116cf",
   "metadata": {},
   "outputs": [],
   "source": []
  }
 ],
 "metadata": {
  "kernelspec": {
   "display_name": "SPARQL",
   "language": "sparql",
   "name": "sparql"
  },
  "language_info": {
   "codemirror_mode": {
    "name": "sparql"
   },
   "mimetype": "application/sparql-query",
   "name": "sparql",
   "pygments_lexer": "sparql-nb"
  }
 },
 "nbformat": 4,
 "nbformat_minor": 5
}
